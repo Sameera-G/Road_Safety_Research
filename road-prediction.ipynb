{
 "cells": [
  {
   "cell_type": "code",
   "execution_count": 1,
   "id": "92625197",
   "metadata": {
    "_cell_guid": "b1076dfc-b9ad-4769-8c92-a6c4dae69d19",
    "_uuid": "8f2839f25d086af736a60e9eeb907d3b93b6e0e5",
    "execution": {
     "iopub.execute_input": "2021-08-08T11:33:19.158130Z",
     "iopub.status.busy": "2021-08-08T11:33:19.157442Z",
     "iopub.status.idle": "2021-08-08T11:33:19.177831Z",
     "shell.execute_reply": "2021-08-08T11:33:19.178413Z"
    },
    "papermill": {
     "duration": 0.0675,
     "end_time": "2021-08-08T11:33:19.178794",
     "exception": false,
     "start_time": "2021-08-08T11:33:19.111294",
     "status": "completed"
    },
    "tags": []
   },
   "outputs": [
    {
     "name": "stdout",
     "output_type": "stream",
     "text": [
      "/kaggle/input/traffic-driving-style-road-surface-condition/peugeot_207_01.csv\n",
      "/kaggle/input/traffic-driving-style-road-surface-condition/opel_corsa_01.csv\n",
      "/kaggle/input/traffic-driving-style-road-surface-condition/opel_corsa_02.csv\n",
      "/kaggle/input/traffic-driving-style-road-surface-condition/peugeot_207_02.csv\n"
     ]
    }
   ],
   "source": [
    "# This Python 3 environment comes with many helpful analytics libraries installed\n",
    "# It is defined by the kaggle/python Docker image: https://github.com/kaggle/docker-python\n",
    "# For example, here's several helpful packages to load\n",
    "\n",
    "import numpy as np # linear algebra\n",
    "import pandas as pd # data processing, CSV file I/O (e.g. pd.read_csv)\n",
    "\n",
    "# Input data files are available in the read-only \"../input/\" directory\n",
    "# For example, running this (by clicking run or pressing Shift+Enter) will list all files under the input directory\n",
    "\n",
    "import os\n",
    "for dirname, _, filenames in os.walk('/kaggle/input'):\n",
    "    for filename in filenames:\n",
    "        print(os.path.join(dirname, filename))\n",
    "\n",
    "# You can write up to 20GB to the current directory (/kaggle/working/) that gets preserved as output when you create a version using \"Save & Run All\" \n",
    "# You can also write temporary files to /kaggle/temp/, but they won't be saved outside of the current session"
   ]
  },
  {
   "cell_type": "markdown",
   "id": "c48c8f63",
   "metadata": {
    "papermill": {
     "duration": 0.027424,
     "end_time": "2021-08-08T11:33:19.235394",
     "exception": false,
     "start_time": "2021-08-08T11:33:19.207970",
     "status": "completed"
    },
    "tags": []
   },
   "source": [
    "# Loading the dataset"
   ]
  },
  {
   "cell_type": "code",
   "execution_count": 2,
   "id": "cbde9568",
   "metadata": {
    "execution": {
     "iopub.execute_input": "2021-08-08T11:33:19.306942Z",
     "iopub.status.busy": "2021-08-08T11:33:19.305856Z",
     "iopub.status.idle": "2021-08-08T11:33:19.699255Z",
     "shell.execute_reply": "2021-08-08T11:33:19.698236Z",
     "shell.execute_reply.started": "2021-08-08T10:52:24.358743Z"
    },
    "papermill": {
     "duration": 0.428652,
     "end_time": "2021-08-08T11:33:19.699470",
     "exception": false,
     "start_time": "2021-08-08T11:33:19.270818",
     "status": "completed"
    },
    "tags": []
   },
   "outputs": [
    {
     "name": "stdout",
     "output_type": "stream",
     "text": [
      "Empty DataFrame\n",
      "Columns: [AltitudeVariation, VehicleSpeedInstantaneous, VehicleSpeedAverage, VehicleSpeedVariance, VehicleSpeedVariation, LongitudinalAcceleration, EngineLoad, EngineCoolantTemperature, ManifoldAbsolutePressure, EngineRPM, MassAirFlow, IntakeAirTemperature, VerticalAcceleration, FuelConsumptionAverage, roadSurface, traffic, drivingStyle]\n",
      "Index: []\n",
      "(24957, 17)\n"
     ]
    }
   ],
   "source": [
    "import pandas as pd\n",
    "\n",
    "df_peugot_1 = pd.read_csv(\"/kaggle/input/traffic-driving-style-road-surface-condition/peugeot_207_01.csv\", delimiter=';')\n",
    "df_peugot_2 = pd.read_csv(\"/kaggle/input/traffic-driving-style-road-surface-condition/peugeot_207_02.csv\", delimiter=';')\n",
    "\n",
    "df_corsa_1 = pd.read_csv(\"/kaggle/input/traffic-driving-style-road-surface-condition/opel_corsa_01.csv\", delimiter=';')\n",
    "df_corsa_2 = pd.read_csv(\"/kaggle/input/traffic-driving-style-road-surface-condition/opel_corsa_02.csv\", delimiter=';')\n",
    "\n",
    "\n",
    "\n",
    "df_new = pd.DataFrame(columns=list(df_corsa_1.columns))\n",
    "print(df_new.head(5))\n",
    "\n",
    "df_new = pd.concat([df_peugot_1, df_peugot_2, df_corsa_1, df_corsa_2], axis=0)\n",
    "print(df_new.shape)"
   ]
  },
  {
   "cell_type": "code",
   "execution_count": 3,
   "id": "c94e7442",
   "metadata": {
    "execution": {
     "iopub.execute_input": "2021-08-08T11:33:19.763555Z",
     "iopub.status.busy": "2021-08-08T11:33:19.762394Z",
     "iopub.status.idle": "2021-08-08T11:33:19.767373Z",
     "shell.execute_reply": "2021-08-08T11:33:19.766432Z",
     "shell.execute_reply.started": "2021-08-08T10:52:26.544148Z"
    },
    "papermill": {
     "duration": 0.039832,
     "end_time": "2021-08-08T11:33:19.767575",
     "exception": false,
     "start_time": "2021-08-08T11:33:19.727743",
     "status": "completed"
    },
    "tags": []
   },
   "outputs": [
    {
     "name": "stdout",
     "output_type": "stream",
     "text": [
      "(8614, 17)\n",
      "(4623, 17)\n",
      "(7392, 17)\n",
      "(4328, 17)\n"
     ]
    }
   ],
   "source": [
    "print(df_peugot_1.shape)\n",
    "print(df_peugot_2.shape)\n",
    "print(df_corsa_1.shape)\n",
    "print(df_corsa_2.shape)"
   ]
  },
  {
   "cell_type": "code",
   "execution_count": 4,
   "id": "8c1d4a8b",
   "metadata": {
    "execution": {
     "iopub.execute_input": "2021-08-08T11:33:19.845630Z",
     "iopub.status.busy": "2021-08-08T11:33:19.842854Z",
     "iopub.status.idle": "2021-08-08T11:33:19.876005Z",
     "shell.execute_reply": "2021-08-08T11:33:19.876516Z",
     "shell.execute_reply.started": "2021-08-08T10:52:28.582829Z"
    },
    "papermill": {
     "duration": 0.073713,
     "end_time": "2021-08-08T11:33:19.876694",
     "exception": false,
     "start_time": "2021-08-08T11:33:19.802981",
     "status": "completed"
    },
    "tags": []
   },
   "outputs": [
    {
     "data": {
      "text/html": [
       "<div>\n",
       "<style scoped>\n",
       "    .dataframe tbody tr th:only-of-type {\n",
       "        vertical-align: middle;\n",
       "    }\n",
       "\n",
       "    .dataframe tbody tr th {\n",
       "        vertical-align: top;\n",
       "    }\n",
       "\n",
       "    .dataframe thead th {\n",
       "        text-align: right;\n",
       "    }\n",
       "</style>\n",
       "<table border=\"1\" class=\"dataframe\">\n",
       "  <thead>\n",
       "    <tr style=\"text-align: right;\">\n",
       "      <th></th>\n",
       "      <th>AltitudeVariation</th>\n",
       "      <th>VehicleSpeedInstantaneous</th>\n",
       "      <th>VehicleSpeedAverage</th>\n",
       "      <th>VehicleSpeedVariance</th>\n",
       "      <th>VehicleSpeedVariation</th>\n",
       "      <th>LongitudinalAcceleration</th>\n",
       "      <th>EngineLoad</th>\n",
       "      <th>EngineCoolantTemperature</th>\n",
       "      <th>ManifoldAbsolutePressure</th>\n",
       "      <th>EngineRPM</th>\n",
       "      <th>MassAirFlow</th>\n",
       "      <th>IntakeAirTemperature</th>\n",
       "      <th>VerticalAcceleration</th>\n",
       "      <th>FuelConsumptionAverage</th>\n",
       "      <th>roadSurface</th>\n",
       "      <th>traffic</th>\n",
       "      <th>drivingStyle</th>\n",
       "    </tr>\n",
       "  </thead>\n",
       "  <tbody>\n",
       "    <tr>\n",
       "      <th>4323</th>\n",
       "      <td>-2,800003052</td>\n",
       "      <td>64,17630005</td>\n",
       "      <td>57,46968689</td>\n",
       "      <td>76,34624122</td>\n",
       "      <td>-0,90071869</td>\n",
       "      <td>0,305</td>\n",
       "      <td>17,25490189</td>\n",
       "      <td>83.0</td>\n",
       "      <td>108.0</td>\n",
       "      <td>2009</td>\n",
       "      <td>14,35999966</td>\n",
       "      <td>18.0</td>\n",
       "      <td>-0,0039</td>\n",
       "      <td>8,389317513</td>\n",
       "      <td>SmoothCondition</td>\n",
       "      <td>LowCongestionCondition</td>\n",
       "      <td>EvenPaceStyle</td>\n",
       "    </tr>\n",
       "    <tr>\n",
       "      <th>4324</th>\n",
       "      <td>-2,800003052</td>\n",
       "      <td>63,27557755</td>\n",
       "      <td>57,61605384</td>\n",
       "      <td>76,7456589</td>\n",
       "      <td>-0,9007225</td>\n",
       "      <td>0,383</td>\n",
       "      <td>20,7843132</td>\n",
       "      <td>83.0</td>\n",
       "      <td>109.0</td>\n",
       "      <td>1996</td>\n",
       "      <td>13,82999992</td>\n",
       "      <td>18.0</td>\n",
       "      <td>0,0234</td>\n",
       "      <td>8,357813835</td>\n",
       "      <td>SmoothCondition</td>\n",
       "      <td>LowCongestionCondition</td>\n",
       "      <td>EvenPaceStyle</td>\n",
       "    </tr>\n",
       "    <tr>\n",
       "      <th>4325</th>\n",
       "      <td>-2,800003052</td>\n",
       "      <td>62,60003281</td>\n",
       "      <td>57,75491473</td>\n",
       "      <td>76,95711958</td>\n",
       "      <td>-0,67554474</td>\n",
       "      <td>0,437</td>\n",
       "      <td>18,8235302</td>\n",
       "      <td>82.0</td>\n",
       "      <td>108.0</td>\n",
       "      <td>1982</td>\n",
       "      <td>13,81000042</td>\n",
       "      <td>18.0</td>\n",
       "      <td>0,0469</td>\n",
       "      <td>8,332449913</td>\n",
       "      <td>SmoothCondition</td>\n",
       "      <td>LowCongestionCondition</td>\n",
       "      <td>EvenPaceStyle</td>\n",
       "    </tr>\n",
       "    <tr>\n",
       "      <th>4326</th>\n",
       "      <td>-2,800003052</td>\n",
       "      <td>62,60003281</td>\n",
       "      <td>57,85999864</td>\n",
       "      <td>77,30764933</td>\n",
       "      <td>0</td>\n",
       "      <td>0,496</td>\n",
       "      <td>11,76470566</td>\n",
       "      <td>82.0</td>\n",
       "      <td>106.0</td>\n",
       "      <td>1952</td>\n",
       "      <td>13,38000011</td>\n",
       "      <td>18.0</td>\n",
       "      <td>0,0586</td>\n",
       "      <td>8,305366516</td>\n",
       "      <td>SmoothCondition</td>\n",
       "      <td>LowCongestionCondition</td>\n",
       "      <td>EvenPaceStyle</td>\n",
       "    </tr>\n",
       "    <tr>\n",
       "      <th>4327</th>\n",
       "      <td>-2,800003052</td>\n",
       "      <td>61,47413635</td>\n",
       "      <td>57,96508261</td>\n",
       "      <td>77,3950813</td>\n",
       "      <td>-1,12589646</td>\n",
       "      <td>0,543</td>\n",
       "      <td>3,529411793</td>\n",
       "      <td>82.0</td>\n",
       "      <td>105.0</td>\n",
       "      <td>1924</td>\n",
       "      <td>12,51000023</td>\n",
       "      <td>18.0</td>\n",
       "      <td>0,0273</td>\n",
       "      <td>8,27575016</td>\n",
       "      <td>SmoothCondition</td>\n",
       "      <td>LowCongestionCondition</td>\n",
       "      <td>EvenPaceStyle</td>\n",
       "    </tr>\n",
       "  </tbody>\n",
       "</table>\n",
       "</div>"
      ],
      "text/plain": [
       "     AltitudeVariation VehicleSpeedInstantaneous VehicleSpeedAverage  \\\n",
       "4323      -2,800003052               64,17630005         57,46968689   \n",
       "4324      -2,800003052               63,27557755         57,61605384   \n",
       "4325      -2,800003052               62,60003281         57,75491473   \n",
       "4326      -2,800003052               62,60003281         57,85999864   \n",
       "4327      -2,800003052               61,47413635         57,96508261   \n",
       "\n",
       "     VehicleSpeedVariance VehicleSpeedVariation LongitudinalAcceleration  \\\n",
       "4323          76,34624122           -0,90071869                    0,305   \n",
       "4324           76,7456589            -0,9007225                    0,383   \n",
       "4325          76,95711958           -0,67554474                    0,437   \n",
       "4326          77,30764933                     0                    0,496   \n",
       "4327           77,3950813           -1,12589646                    0,543   \n",
       "\n",
       "       EngineLoad  EngineCoolantTemperature  ManifoldAbsolutePressure  \\\n",
       "4323  17,25490189                      83.0                     108.0   \n",
       "4324   20,7843132                      83.0                     109.0   \n",
       "4325   18,8235302                      82.0                     108.0   \n",
       "4326  11,76470566                      82.0                     106.0   \n",
       "4327  3,529411793                      82.0                     105.0   \n",
       "\n",
       "     EngineRPM  MassAirFlow  IntakeAirTemperature VerticalAcceleration  \\\n",
       "4323      2009  14,35999966                  18.0              -0,0039   \n",
       "4324      1996  13,82999992                  18.0               0,0234   \n",
       "4325      1982  13,81000042                  18.0               0,0469   \n",
       "4326      1952  13,38000011                  18.0               0,0586   \n",
       "4327      1924  12,51000023                  18.0               0,0273   \n",
       "\n",
       "     FuelConsumptionAverage      roadSurface                 traffic  \\\n",
       "4323            8,389317513  SmoothCondition  LowCongestionCondition   \n",
       "4324            8,357813835  SmoothCondition  LowCongestionCondition   \n",
       "4325            8,332449913  SmoothCondition  LowCongestionCondition   \n",
       "4326            8,305366516  SmoothCondition  LowCongestionCondition   \n",
       "4327             8,27575016  SmoothCondition  LowCongestionCondition   \n",
       "\n",
       "       drivingStyle  \n",
       "4323  EvenPaceStyle  \n",
       "4324  EvenPaceStyle  \n",
       "4325  EvenPaceStyle  \n",
       "4326  EvenPaceStyle  \n",
       "4327  EvenPaceStyle  "
      ]
     },
     "execution_count": 4,
     "metadata": {},
     "output_type": "execute_result"
    }
   ],
   "source": [
    "df_new.tail(5)"
   ]
  },
  {
   "cell_type": "code",
   "execution_count": 5,
   "id": "025e8b05",
   "metadata": {
    "execution": {
     "iopub.execute_input": "2021-08-08T11:33:19.954400Z",
     "iopub.status.busy": "2021-08-08T11:33:19.953143Z",
     "iopub.status.idle": "2021-08-08T11:33:19.996206Z",
     "shell.execute_reply": "2021-08-08T11:33:19.996734Z",
     "shell.execute_reply.started": "2021-08-08T10:52:32.646402Z"
    },
    "papermill": {
     "duration": 0.093543,
     "end_time": "2021-08-08T11:33:19.996924",
     "exception": false,
     "start_time": "2021-08-08T11:33:19.903381",
     "status": "completed"
    },
    "tags": []
   },
   "outputs": [
    {
     "name": "stdout",
     "output_type": "stream",
     "text": [
      "<class 'pandas.core.frame.DataFrame'>\n",
      "Int64Index: 24957 entries, 0 to 4327\n",
      "Data columns (total 17 columns):\n",
      " #   Column                     Non-Null Count  Dtype  \n",
      "---  ------                     --------------  -----  \n",
      " 0   AltitudeVariation          24777 non-null  object \n",
      " 1   VehicleSpeedInstantaneous  24913 non-null  object \n",
      " 2   VehicleSpeedAverage        23775 non-null  object \n",
      " 3   VehicleSpeedVariance       23775 non-null  object \n",
      " 4   VehicleSpeedVariation      24769 non-null  object \n",
      " 5   LongitudinalAcceleration   24957 non-null  object \n",
      " 6   EngineLoad                 24952 non-null  object \n",
      " 7   EngineCoolantTemperature   24952 non-null  float64\n",
      " 8   ManifoldAbsolutePressure   24952 non-null  float64\n",
      " 9   EngineRPM                  24952 non-null  object \n",
      " 10  MassAirFlow                24952 non-null  object \n",
      " 11  IntakeAirTemperature       24952 non-null  float64\n",
      " 12  VerticalAcceleration       24957 non-null  object \n",
      " 13  FuelConsumptionAverage     24671 non-null  object \n",
      " 14  roadSurface                24957 non-null  object \n",
      " 15  traffic                    24957 non-null  object \n",
      " 16  drivingStyle               24957 non-null  object \n",
      "dtypes: float64(3), object(14)\n",
      "memory usage: 3.4+ MB\n"
     ]
    }
   ],
   "source": [
    "df_new.info()"
   ]
  },
  {
   "cell_type": "code",
   "execution_count": 6,
   "id": "725ff8de",
   "metadata": {
    "execution": {
     "iopub.execute_input": "2021-08-08T11:33:20.057265Z",
     "iopub.status.busy": "2021-08-08T11:33:20.056154Z",
     "iopub.status.idle": "2021-08-08T11:33:20.134901Z",
     "shell.execute_reply": "2021-08-08T11:33:20.135458Z",
     "shell.execute_reply.started": "2021-08-08T10:52:34.464677Z"
    },
    "papermill": {
     "duration": 0.11123,
     "end_time": "2021-08-08T11:33:20.135651",
     "exception": false,
     "start_time": "2021-08-08T11:33:20.024421",
     "status": "completed"
    },
    "tags": []
   },
   "outputs": [],
   "source": [
    "df_new.describe()\n",
    "df_new = df_new.fillna(0)"
   ]
  },
  {
   "cell_type": "code",
   "execution_count": 7,
   "id": "8def1580",
   "metadata": {
    "execution": {
     "iopub.execute_input": "2021-08-08T11:33:20.199111Z",
     "iopub.status.busy": "2021-08-08T11:33:20.198427Z",
     "iopub.status.idle": "2021-08-08T11:33:20.201145Z",
     "shell.execute_reply": "2021-08-08T11:33:20.201756Z",
     "shell.execute_reply.started": "2021-08-08T10:52:36.757676Z"
    },
    "papermill": {
     "duration": 0.03772,
     "end_time": "2021-08-08T11:33:20.201933",
     "exception": false,
     "start_time": "2021-08-08T11:33:20.164213",
     "status": "completed"
    },
    "tags": []
   },
   "outputs": [],
   "source": [
    "def process_col_values(df_new, col_name):\n",
    "    col_list = list(df_new[col_name])\n",
    "    processed_value = []\n",
    "    for each_value in col_list:\n",
    "        if each_value == 0:\n",
    "            processed_value.append(0)\n",
    "        elif type(each_value) == str:\n",
    "            processed_value.append(float(each_value.replace(\",\",\".\")))\n",
    "        else:\n",
    "            processed_value.append(float(each_value))\n",
    "    \n",
    "    df_new[col_name] = processed_value"
   ]
  },
  {
   "cell_type": "code",
   "execution_count": 8,
   "id": "6c70b895",
   "metadata": {
    "execution": {
     "iopub.execute_input": "2021-08-08T11:33:20.273103Z",
     "iopub.status.busy": "2021-08-08T11:33:20.272408Z",
     "iopub.status.idle": "2021-08-08T11:33:20.588069Z",
     "shell.execute_reply": "2021-08-08T11:33:20.586529Z",
     "shell.execute_reply.started": "2021-08-08T10:52:39.035005Z"
    },
    "papermill": {
     "duration": 0.35817,
     "end_time": "2021-08-08T11:33:20.588291",
     "exception": false,
     "start_time": "2021-08-08T11:33:20.230121",
     "status": "completed"
    },
    "tags": []
   },
   "outputs": [
    {
     "name": "stdout",
     "output_type": "stream",
     "text": [
      "AltitudeVariation\n",
      "VehicleSpeedInstantaneous\n",
      "VehicleSpeedAverage\n",
      "VehicleSpeedVariance\n",
      "VehicleSpeedVariation\n",
      "LongitudinalAcceleration\n",
      "EngineLoad\n",
      "EngineRPM\n",
      "MassAirFlow\n",
      "VerticalAcceleration\n",
      "FuelConsumptionAverage\n"
     ]
    }
   ],
   "source": [
    "cols_to_change = [\"AltitudeVariation\", \"VehicleSpeedInstantaneous\", \"VehicleSpeedAverage\", \"VehicleSpeedVariance\", \"VehicleSpeedVariation\",\n",
    "                 \"LongitudinalAcceleration\", \"EngineLoad\", \"EngineRPM\", \"MassAirFlow\", \"VerticalAcceleration\", \"FuelConsumptionAverage\"]\n",
    "\n",
    "for col in cols_to_change:\n",
    "    print(col)\n",
    "    process_col_values(df_new, col)"
   ]
  },
  {
   "cell_type": "code",
   "execution_count": 9,
   "id": "38ecce67",
   "metadata": {
    "execution": {
     "iopub.execute_input": "2021-08-08T11:33:20.662019Z",
     "iopub.status.busy": "2021-08-08T11:33:20.661241Z",
     "iopub.status.idle": "2021-08-08T11:33:20.681198Z",
     "shell.execute_reply": "2021-08-08T11:33:20.680521Z",
     "shell.execute_reply.started": "2021-08-08T10:52:41.799063Z"
    },
    "papermill": {
     "duration": 0.062584,
     "end_time": "2021-08-08T11:33:20.681360",
     "exception": false,
     "start_time": "2021-08-08T11:33:20.618776",
     "status": "completed"
    },
    "tags": []
   },
   "outputs": [
    {
     "name": "stdout",
     "output_type": "stream",
     "text": [
      "<class 'pandas.core.frame.DataFrame'>\n",
      "Int64Index: 24957 entries, 0 to 4327\n",
      "Data columns (total 17 columns):\n",
      " #   Column                     Non-Null Count  Dtype  \n",
      "---  ------                     --------------  -----  \n",
      " 0   AltitudeVariation          24957 non-null  float64\n",
      " 1   VehicleSpeedInstantaneous  24957 non-null  float64\n",
      " 2   VehicleSpeedAverage        24957 non-null  float64\n",
      " 3   VehicleSpeedVariance       24957 non-null  float64\n",
      " 4   VehicleSpeedVariation      24957 non-null  float64\n",
      " 5   LongitudinalAcceleration   24957 non-null  float64\n",
      " 6   EngineLoad                 24957 non-null  float64\n",
      " 7   EngineCoolantTemperature   24957 non-null  float64\n",
      " 8   ManifoldAbsolutePressure   24957 non-null  float64\n",
      " 9   EngineRPM                  24957 non-null  float64\n",
      " 10  MassAirFlow                24957 non-null  float64\n",
      " 11  IntakeAirTemperature       24957 non-null  float64\n",
      " 12  VerticalAcceleration       24957 non-null  float64\n",
      " 13  FuelConsumptionAverage     24957 non-null  float64\n",
      " 14  roadSurface                24957 non-null  object \n",
      " 15  traffic                    24957 non-null  object \n",
      " 16  drivingStyle               24957 non-null  object \n",
      "dtypes: float64(14), object(3)\n",
      "memory usage: 3.4+ MB\n"
     ]
    }
   ],
   "source": [
    "df_new.info()"
   ]
  },
  {
   "cell_type": "code",
   "execution_count": 10,
   "id": "75f16eca",
   "metadata": {
    "execution": {
     "iopub.execute_input": "2021-08-08T11:33:20.752474Z",
     "iopub.status.busy": "2021-08-08T11:33:20.746913Z",
     "iopub.status.idle": "2021-08-08T11:33:20.776353Z",
     "shell.execute_reply": "2021-08-08T11:33:20.775251Z",
     "shell.execute_reply.started": "2021-08-08T10:52:45.096407Z"
    },
    "papermill": {
     "duration": 0.067392,
     "end_time": "2021-08-08T11:33:20.776587",
     "exception": false,
     "start_time": "2021-08-08T11:33:20.709195",
     "status": "completed"
    },
    "tags": []
   },
   "outputs": [
    {
     "data": {
      "text/html": [
       "<div>\n",
       "<style scoped>\n",
       "    .dataframe tbody tr th:only-of-type {\n",
       "        vertical-align: middle;\n",
       "    }\n",
       "\n",
       "    .dataframe tbody tr th {\n",
       "        vertical-align: top;\n",
       "    }\n",
       "\n",
       "    .dataframe thead th {\n",
       "        text-align: right;\n",
       "    }\n",
       "</style>\n",
       "<table border=\"1\" class=\"dataframe\">\n",
       "  <thead>\n",
       "    <tr style=\"text-align: right;\">\n",
       "      <th></th>\n",
       "      <th>AltitudeVariation</th>\n",
       "      <th>VehicleSpeedInstantaneous</th>\n",
       "      <th>VehicleSpeedAverage</th>\n",
       "      <th>VehicleSpeedVariance</th>\n",
       "      <th>VehicleSpeedVariation</th>\n",
       "      <th>LongitudinalAcceleration</th>\n",
       "      <th>EngineLoad</th>\n",
       "      <th>EngineCoolantTemperature</th>\n",
       "      <th>ManifoldAbsolutePressure</th>\n",
       "      <th>EngineRPM</th>\n",
       "      <th>MassAirFlow</th>\n",
       "      <th>IntakeAirTemperature</th>\n",
       "      <th>VerticalAcceleration</th>\n",
       "      <th>FuelConsumptionAverage</th>\n",
       "      <th>roadSurface</th>\n",
       "      <th>traffic</th>\n",
       "      <th>drivingStyle</th>\n",
       "    </tr>\n",
       "  </thead>\n",
       "  <tbody>\n",
       "    <tr>\n",
       "      <th>4323</th>\n",
       "      <td>-2.800003</td>\n",
       "      <td>64.176300</td>\n",
       "      <td>57.469687</td>\n",
       "      <td>76.346241</td>\n",
       "      <td>-0.900719</td>\n",
       "      <td>0.305</td>\n",
       "      <td>17.254902</td>\n",
       "      <td>83.0</td>\n",
       "      <td>108.0</td>\n",
       "      <td>2009.0</td>\n",
       "      <td>14.36</td>\n",
       "      <td>18.0</td>\n",
       "      <td>-0.0039</td>\n",
       "      <td>8.389318</td>\n",
       "      <td>SmoothCondition</td>\n",
       "      <td>LowCongestionCondition</td>\n",
       "      <td>EvenPaceStyle</td>\n",
       "    </tr>\n",
       "    <tr>\n",
       "      <th>4324</th>\n",
       "      <td>-2.800003</td>\n",
       "      <td>63.275578</td>\n",
       "      <td>57.616054</td>\n",
       "      <td>76.745659</td>\n",
       "      <td>-0.900722</td>\n",
       "      <td>0.383</td>\n",
       "      <td>20.784313</td>\n",
       "      <td>83.0</td>\n",
       "      <td>109.0</td>\n",
       "      <td>1996.0</td>\n",
       "      <td>13.83</td>\n",
       "      <td>18.0</td>\n",
       "      <td>0.0234</td>\n",
       "      <td>8.357814</td>\n",
       "      <td>SmoothCondition</td>\n",
       "      <td>LowCongestionCondition</td>\n",
       "      <td>EvenPaceStyle</td>\n",
       "    </tr>\n",
       "    <tr>\n",
       "      <th>4325</th>\n",
       "      <td>-2.800003</td>\n",
       "      <td>62.600033</td>\n",
       "      <td>57.754915</td>\n",
       "      <td>76.957120</td>\n",
       "      <td>-0.675545</td>\n",
       "      <td>0.437</td>\n",
       "      <td>18.823530</td>\n",
       "      <td>82.0</td>\n",
       "      <td>108.0</td>\n",
       "      <td>1982.0</td>\n",
       "      <td>13.81</td>\n",
       "      <td>18.0</td>\n",
       "      <td>0.0469</td>\n",
       "      <td>8.332450</td>\n",
       "      <td>SmoothCondition</td>\n",
       "      <td>LowCongestionCondition</td>\n",
       "      <td>EvenPaceStyle</td>\n",
       "    </tr>\n",
       "    <tr>\n",
       "      <th>4326</th>\n",
       "      <td>-2.800003</td>\n",
       "      <td>62.600033</td>\n",
       "      <td>57.859999</td>\n",
       "      <td>77.307649</td>\n",
       "      <td>0.000000</td>\n",
       "      <td>0.496</td>\n",
       "      <td>11.764706</td>\n",
       "      <td>82.0</td>\n",
       "      <td>106.0</td>\n",
       "      <td>1952.0</td>\n",
       "      <td>13.38</td>\n",
       "      <td>18.0</td>\n",
       "      <td>0.0586</td>\n",
       "      <td>8.305367</td>\n",
       "      <td>SmoothCondition</td>\n",
       "      <td>LowCongestionCondition</td>\n",
       "      <td>EvenPaceStyle</td>\n",
       "    </tr>\n",
       "    <tr>\n",
       "      <th>4327</th>\n",
       "      <td>-2.800003</td>\n",
       "      <td>61.474136</td>\n",
       "      <td>57.965083</td>\n",
       "      <td>77.395081</td>\n",
       "      <td>-1.125896</td>\n",
       "      <td>0.543</td>\n",
       "      <td>3.529412</td>\n",
       "      <td>82.0</td>\n",
       "      <td>105.0</td>\n",
       "      <td>1924.0</td>\n",
       "      <td>12.51</td>\n",
       "      <td>18.0</td>\n",
       "      <td>0.0273</td>\n",
       "      <td>8.275750</td>\n",
       "      <td>SmoothCondition</td>\n",
       "      <td>LowCongestionCondition</td>\n",
       "      <td>EvenPaceStyle</td>\n",
       "    </tr>\n",
       "  </tbody>\n",
       "</table>\n",
       "</div>"
      ],
      "text/plain": [
       "      AltitudeVariation  VehicleSpeedInstantaneous  VehicleSpeedAverage  \\\n",
       "4323          -2.800003                  64.176300            57.469687   \n",
       "4324          -2.800003                  63.275578            57.616054   \n",
       "4325          -2.800003                  62.600033            57.754915   \n",
       "4326          -2.800003                  62.600033            57.859999   \n",
       "4327          -2.800003                  61.474136            57.965083   \n",
       "\n",
       "      VehicleSpeedVariance  VehicleSpeedVariation  LongitudinalAcceleration  \\\n",
       "4323             76.346241              -0.900719                     0.305   \n",
       "4324             76.745659              -0.900722                     0.383   \n",
       "4325             76.957120              -0.675545                     0.437   \n",
       "4326             77.307649               0.000000                     0.496   \n",
       "4327             77.395081              -1.125896                     0.543   \n",
       "\n",
       "      EngineLoad  EngineCoolantTemperature  ManifoldAbsolutePressure  \\\n",
       "4323   17.254902                      83.0                     108.0   \n",
       "4324   20.784313                      83.0                     109.0   \n",
       "4325   18.823530                      82.0                     108.0   \n",
       "4326   11.764706                      82.0                     106.0   \n",
       "4327    3.529412                      82.0                     105.0   \n",
       "\n",
       "      EngineRPM  MassAirFlow  IntakeAirTemperature  VerticalAcceleration  \\\n",
       "4323     2009.0        14.36                  18.0               -0.0039   \n",
       "4324     1996.0        13.83                  18.0                0.0234   \n",
       "4325     1982.0        13.81                  18.0                0.0469   \n",
       "4326     1952.0        13.38                  18.0                0.0586   \n",
       "4327     1924.0        12.51                  18.0                0.0273   \n",
       "\n",
       "      FuelConsumptionAverage      roadSurface                 traffic  \\\n",
       "4323                8.389318  SmoothCondition  LowCongestionCondition   \n",
       "4324                8.357814  SmoothCondition  LowCongestionCondition   \n",
       "4325                8.332450  SmoothCondition  LowCongestionCondition   \n",
       "4326                8.305367  SmoothCondition  LowCongestionCondition   \n",
       "4327                8.275750  SmoothCondition  LowCongestionCondition   \n",
       "\n",
       "       drivingStyle  \n",
       "4323  EvenPaceStyle  \n",
       "4324  EvenPaceStyle  \n",
       "4325  EvenPaceStyle  \n",
       "4326  EvenPaceStyle  \n",
       "4327  EvenPaceStyle  "
      ]
     },
     "execution_count": 10,
     "metadata": {},
     "output_type": "execute_result"
    }
   ],
   "source": [
    "df_new.tail()"
   ]
  },
  {
   "cell_type": "code",
   "execution_count": 11,
   "id": "8c9fac6a",
   "metadata": {
    "execution": {
     "iopub.execute_input": "2021-08-08T11:33:20.846457Z",
     "iopub.status.busy": "2021-08-08T11:33:20.845192Z",
     "iopub.status.idle": "2021-08-08T11:33:20.856376Z",
     "shell.execute_reply": "2021-08-08T11:33:20.857346Z",
     "shell.execute_reply.started": "2021-08-08T10:52:50.001218Z"
    },
    "papermill": {
     "duration": 0.049515,
     "end_time": "2021-08-08T11:33:20.857610",
     "exception": false,
     "start_time": "2021-08-08T11:33:20.808095",
     "status": "completed"
    },
    "tags": []
   },
   "outputs": [
    {
     "name": "stdout",
     "output_type": "stream",
     "text": [
      "['SmoothCondition', 'FullOfHolesCondition', 'UnevenCondition']\n",
      "['LowCongestionCondition', 'NormalCongestionCondition', 'HighCongestionCondition']\n",
      "['EvenPaceStyle', 'AggressiveStyle']\n"
     ]
    }
   ],
   "source": [
    "road_surf_unique = list(df_new[\"roadSurface\"].unique())\n",
    "traffic_unique = list(df_new[\"traffic\"].unique())\n",
    "drivingStyle_unique = list(df_new[\"drivingStyle\"].unique())\n",
    "\n",
    "print(road_surf_unique)\n",
    "print(traffic_unique)\n",
    "print(drivingStyle_unique)"
   ]
  },
  {
   "cell_type": "code",
   "execution_count": 12,
   "id": "744df24f",
   "metadata": {
    "execution": {
     "iopub.execute_input": "2021-08-08T11:33:20.925940Z",
     "iopub.status.busy": "2021-08-08T11:33:20.925252Z",
     "iopub.status.idle": "2021-08-08T11:33:20.929712Z",
     "shell.execute_reply": "2021-08-08T11:33:20.930677Z",
     "shell.execute_reply.started": "2021-08-08T10:52:53.017342Z"
    },
    "papermill": {
     "duration": 0.041711,
     "end_time": "2021-08-08T11:33:20.930922",
     "exception": false,
     "start_time": "2021-08-08T11:33:20.889211",
     "status": "completed"
    },
    "tags": []
   },
   "outputs": [
    {
     "name": "stdout",
     "output_type": "stream",
     "text": [
      "['SmoothCondition', 'FullOfHolesCondition', 'UnevenCondition', 'SmoothCondition', 'FullOfHolesCondition', 'UnevenCondition', 'SmoothCondition', 'FullOfHolesCondition', 'UnevenCondition']\n"
     ]
    }
   ],
   "source": [
    "final_list = []\n",
    "final_list.extend(road_surf_unique)\n",
    "final_list.extend(road_surf_unique)\n",
    "final_list.extend(road_surf_unique)\n",
    "print(final_list)"
   ]
  },
  {
   "cell_type": "code",
   "execution_count": 13,
   "id": "a9c584a7",
   "metadata": {
    "execution": {
     "iopub.execute_input": "2021-08-08T11:33:20.998713Z",
     "iopub.status.busy": "2021-08-08T11:33:20.998045Z",
     "iopub.status.idle": "2021-08-08T11:33:21.035590Z",
     "shell.execute_reply": "2021-08-08T11:33:21.036208Z",
     "shell.execute_reply.started": "2021-08-08T10:52:55.882307Z"
    },
    "papermill": {
     "duration": 0.074458,
     "end_time": "2021-08-08T11:33:21.036419",
     "exception": false,
     "start_time": "2021-08-08T11:33:20.961961",
     "status": "completed"
    },
    "tags": []
   },
   "outputs": [
    {
     "data": {
      "text/html": [
       "<div>\n",
       "<style scoped>\n",
       "    .dataframe tbody tr th:only-of-type {\n",
       "        vertical-align: middle;\n",
       "    }\n",
       "\n",
       "    .dataframe tbody tr th {\n",
       "        vertical-align: top;\n",
       "    }\n",
       "\n",
       "    .dataframe thead th {\n",
       "        text-align: right;\n",
       "    }\n",
       "</style>\n",
       "<table border=\"1\" class=\"dataframe\">\n",
       "  <thead>\n",
       "    <tr style=\"text-align: right;\">\n",
       "      <th></th>\n",
       "      <th>roadSurface_FullOfHolesCondition</th>\n",
       "      <th>roadSurface_SmoothCondition</th>\n",
       "      <th>roadSurface_UnevenCondition</th>\n",
       "      <th>traffic_HighCongestionCondition</th>\n",
       "      <th>traffic_LowCongestionCondition</th>\n",
       "      <th>traffic_NormalCongestionCondition</th>\n",
       "      <th>drivingStyle_AggressiveStyle</th>\n",
       "      <th>drivingStyle_EvenPaceStyle</th>\n",
       "    </tr>\n",
       "  </thead>\n",
       "  <tbody>\n",
       "    <tr>\n",
       "      <th>0</th>\n",
       "      <td>0</td>\n",
       "      <td>1</td>\n",
       "      <td>0</td>\n",
       "      <td>0</td>\n",
       "      <td>1</td>\n",
       "      <td>0</td>\n",
       "      <td>0</td>\n",
       "      <td>1</td>\n",
       "    </tr>\n",
       "    <tr>\n",
       "      <th>1</th>\n",
       "      <td>0</td>\n",
       "      <td>1</td>\n",
       "      <td>0</td>\n",
       "      <td>0</td>\n",
       "      <td>1</td>\n",
       "      <td>0</td>\n",
       "      <td>0</td>\n",
       "      <td>1</td>\n",
       "    </tr>\n",
       "    <tr>\n",
       "      <th>2</th>\n",
       "      <td>0</td>\n",
       "      <td>1</td>\n",
       "      <td>0</td>\n",
       "      <td>0</td>\n",
       "      <td>1</td>\n",
       "      <td>0</td>\n",
       "      <td>0</td>\n",
       "      <td>1</td>\n",
       "    </tr>\n",
       "    <tr>\n",
       "      <th>3</th>\n",
       "      <td>0</td>\n",
       "      <td>1</td>\n",
       "      <td>0</td>\n",
       "      <td>0</td>\n",
       "      <td>1</td>\n",
       "      <td>0</td>\n",
       "      <td>0</td>\n",
       "      <td>1</td>\n",
       "    </tr>\n",
       "    <tr>\n",
       "      <th>4</th>\n",
       "      <td>0</td>\n",
       "      <td>1</td>\n",
       "      <td>0</td>\n",
       "      <td>0</td>\n",
       "      <td>1</td>\n",
       "      <td>0</td>\n",
       "      <td>0</td>\n",
       "      <td>1</td>\n",
       "    </tr>\n",
       "    <tr>\n",
       "      <th>...</th>\n",
       "      <td>...</td>\n",
       "      <td>...</td>\n",
       "      <td>...</td>\n",
       "      <td>...</td>\n",
       "      <td>...</td>\n",
       "      <td>...</td>\n",
       "      <td>...</td>\n",
       "      <td>...</td>\n",
       "    </tr>\n",
       "    <tr>\n",
       "      <th>4323</th>\n",
       "      <td>0</td>\n",
       "      <td>1</td>\n",
       "      <td>0</td>\n",
       "      <td>0</td>\n",
       "      <td>1</td>\n",
       "      <td>0</td>\n",
       "      <td>0</td>\n",
       "      <td>1</td>\n",
       "    </tr>\n",
       "    <tr>\n",
       "      <th>4324</th>\n",
       "      <td>0</td>\n",
       "      <td>1</td>\n",
       "      <td>0</td>\n",
       "      <td>0</td>\n",
       "      <td>1</td>\n",
       "      <td>0</td>\n",
       "      <td>0</td>\n",
       "      <td>1</td>\n",
       "    </tr>\n",
       "    <tr>\n",
       "      <th>4325</th>\n",
       "      <td>0</td>\n",
       "      <td>1</td>\n",
       "      <td>0</td>\n",
       "      <td>0</td>\n",
       "      <td>1</td>\n",
       "      <td>0</td>\n",
       "      <td>0</td>\n",
       "      <td>1</td>\n",
       "    </tr>\n",
       "    <tr>\n",
       "      <th>4326</th>\n",
       "      <td>0</td>\n",
       "      <td>1</td>\n",
       "      <td>0</td>\n",
       "      <td>0</td>\n",
       "      <td>1</td>\n",
       "      <td>0</td>\n",
       "      <td>0</td>\n",
       "      <td>1</td>\n",
       "    </tr>\n",
       "    <tr>\n",
       "      <th>4327</th>\n",
       "      <td>0</td>\n",
       "      <td>1</td>\n",
       "      <td>0</td>\n",
       "      <td>0</td>\n",
       "      <td>1</td>\n",
       "      <td>0</td>\n",
       "      <td>0</td>\n",
       "      <td>1</td>\n",
       "    </tr>\n",
       "  </tbody>\n",
       "</table>\n",
       "<p>24957 rows × 8 columns</p>\n",
       "</div>"
      ],
      "text/plain": [
       "      roadSurface_FullOfHolesCondition  roadSurface_SmoothCondition  \\\n",
       "0                                    0                            1   \n",
       "1                                    0                            1   \n",
       "2                                    0                            1   \n",
       "3                                    0                            1   \n",
       "4                                    0                            1   \n",
       "...                                ...                          ...   \n",
       "4323                                 0                            1   \n",
       "4324                                 0                            1   \n",
       "4325                                 0                            1   \n",
       "4326                                 0                            1   \n",
       "4327                                 0                            1   \n",
       "\n",
       "      roadSurface_UnevenCondition  traffic_HighCongestionCondition  \\\n",
       "0                               0                                0   \n",
       "1                               0                                0   \n",
       "2                               0                                0   \n",
       "3                               0                                0   \n",
       "4                               0                                0   \n",
       "...                           ...                              ...   \n",
       "4323                            0                                0   \n",
       "4324                            0                                0   \n",
       "4325                            0                                0   \n",
       "4326                            0                                0   \n",
       "4327                            0                                0   \n",
       "\n",
       "      traffic_LowCongestionCondition  traffic_NormalCongestionCondition  \\\n",
       "0                                  1                                  0   \n",
       "1                                  1                                  0   \n",
       "2                                  1                                  0   \n",
       "3                                  1                                  0   \n",
       "4                                  1                                  0   \n",
       "...                              ...                                ...   \n",
       "4323                               1                                  0   \n",
       "4324                               1                                  0   \n",
       "4325                               1                                  0   \n",
       "4326                               1                                  0   \n",
       "4327                               1                                  0   \n",
       "\n",
       "      drivingStyle_AggressiveStyle  drivingStyle_EvenPaceStyle  \n",
       "0                                0                           1  \n",
       "1                                0                           1  \n",
       "2                                0                           1  \n",
       "3                                0                           1  \n",
       "4                                0                           1  \n",
       "...                            ...                         ...  \n",
       "4323                             0                           1  \n",
       "4324                             0                           1  \n",
       "4325                             0                           1  \n",
       "4326                             0                           1  \n",
       "4327                             0                           1  \n",
       "\n",
       "[24957 rows x 8 columns]"
      ]
     },
     "execution_count": 13,
     "metadata": {},
     "output_type": "execute_result"
    }
   ],
   "source": [
    "one_hot_encoding = pd.get_dummies(df_new[['roadSurface', \"traffic\", \"drivingStyle\"]])\n",
    "one_hot_encoding"
   ]
  },
  {
   "cell_type": "code",
   "execution_count": 14,
   "id": "ac4c092b",
   "metadata": {
    "execution": {
     "iopub.execute_input": "2021-08-08T11:33:21.107641Z",
     "iopub.status.busy": "2021-08-08T11:33:21.106980Z",
     "iopub.status.idle": "2021-08-08T11:33:21.166705Z",
     "shell.execute_reply": "2021-08-08T11:33:21.165830Z",
     "shell.execute_reply.started": "2021-08-08T10:52:59.945685Z"
    },
    "papermill": {
     "duration": 0.097743,
     "end_time": "2021-08-08T11:33:21.166899",
     "exception": false,
     "start_time": "2021-08-08T11:33:21.069156",
     "status": "completed"
    },
    "tags": []
   },
   "outputs": [
    {
     "data": {
      "text/html": [
       "<div>\n",
       "<style scoped>\n",
       "    .dataframe tbody tr th:only-of-type {\n",
       "        vertical-align: middle;\n",
       "    }\n",
       "\n",
       "    .dataframe tbody tr th {\n",
       "        vertical-align: top;\n",
       "    }\n",
       "\n",
       "    .dataframe thead th {\n",
       "        text-align: right;\n",
       "    }\n",
       "</style>\n",
       "<table border=\"1\" class=\"dataframe\">\n",
       "  <thead>\n",
       "    <tr style=\"text-align: right;\">\n",
       "      <th></th>\n",
       "      <th>roadSurface_FullOfHolesCondition</th>\n",
       "      <th>roadSurface_SmoothCondition</th>\n",
       "      <th>roadSurface_UnevenCondition</th>\n",
       "      <th>traffic_HighCongestionCondition</th>\n",
       "      <th>traffic_LowCongestionCondition</th>\n",
       "      <th>traffic_NormalCongestionCondition</th>\n",
       "      <th>drivingStyle_AggressiveStyle</th>\n",
       "      <th>drivingStyle_EvenPaceStyle</th>\n",
       "      <th>Target</th>\n",
       "    </tr>\n",
       "  </thead>\n",
       "  <tbody>\n",
       "    <tr>\n",
       "      <th>0</th>\n",
       "      <td>0</td>\n",
       "      <td>1</td>\n",
       "      <td>0</td>\n",
       "      <td>0</td>\n",
       "      <td>1</td>\n",
       "      <td>0</td>\n",
       "      <td>0</td>\n",
       "      <td>1</td>\n",
       "      <td>[0, 1, 0, 0, 1, 0, 0, 1]</td>\n",
       "    </tr>\n",
       "    <tr>\n",
       "      <th>1</th>\n",
       "      <td>0</td>\n",
       "      <td>1</td>\n",
       "      <td>0</td>\n",
       "      <td>0</td>\n",
       "      <td>1</td>\n",
       "      <td>0</td>\n",
       "      <td>0</td>\n",
       "      <td>1</td>\n",
       "      <td>[0, 1, 0, 0, 1, 0, 0, 1]</td>\n",
       "    </tr>\n",
       "    <tr>\n",
       "      <th>2</th>\n",
       "      <td>0</td>\n",
       "      <td>1</td>\n",
       "      <td>0</td>\n",
       "      <td>0</td>\n",
       "      <td>1</td>\n",
       "      <td>0</td>\n",
       "      <td>0</td>\n",
       "      <td>1</td>\n",
       "      <td>[0, 1, 0, 0, 1, 0, 0, 1]</td>\n",
       "    </tr>\n",
       "    <tr>\n",
       "      <th>3</th>\n",
       "      <td>0</td>\n",
       "      <td>1</td>\n",
       "      <td>0</td>\n",
       "      <td>0</td>\n",
       "      <td>1</td>\n",
       "      <td>0</td>\n",
       "      <td>0</td>\n",
       "      <td>1</td>\n",
       "      <td>[0, 1, 0, 0, 1, 0, 0, 1]</td>\n",
       "    </tr>\n",
       "    <tr>\n",
       "      <th>4</th>\n",
       "      <td>0</td>\n",
       "      <td>1</td>\n",
       "      <td>0</td>\n",
       "      <td>0</td>\n",
       "      <td>1</td>\n",
       "      <td>0</td>\n",
       "      <td>0</td>\n",
       "      <td>1</td>\n",
       "      <td>[0, 1, 0, 0, 1, 0, 0, 1]</td>\n",
       "    </tr>\n",
       "    <tr>\n",
       "      <th>...</th>\n",
       "      <td>...</td>\n",
       "      <td>...</td>\n",
       "      <td>...</td>\n",
       "      <td>...</td>\n",
       "      <td>...</td>\n",
       "      <td>...</td>\n",
       "      <td>...</td>\n",
       "      <td>...</td>\n",
       "      <td>...</td>\n",
       "    </tr>\n",
       "    <tr>\n",
       "      <th>4323</th>\n",
       "      <td>0</td>\n",
       "      <td>1</td>\n",
       "      <td>0</td>\n",
       "      <td>0</td>\n",
       "      <td>1</td>\n",
       "      <td>0</td>\n",
       "      <td>0</td>\n",
       "      <td>1</td>\n",
       "      <td>[0, 1, 0, 0, 1, 0, 0, 1]</td>\n",
       "    </tr>\n",
       "    <tr>\n",
       "      <th>4324</th>\n",
       "      <td>0</td>\n",
       "      <td>1</td>\n",
       "      <td>0</td>\n",
       "      <td>0</td>\n",
       "      <td>1</td>\n",
       "      <td>0</td>\n",
       "      <td>0</td>\n",
       "      <td>1</td>\n",
       "      <td>[0, 1, 0, 0, 1, 0, 0, 1]</td>\n",
       "    </tr>\n",
       "    <tr>\n",
       "      <th>4325</th>\n",
       "      <td>0</td>\n",
       "      <td>1</td>\n",
       "      <td>0</td>\n",
       "      <td>0</td>\n",
       "      <td>1</td>\n",
       "      <td>0</td>\n",
       "      <td>0</td>\n",
       "      <td>1</td>\n",
       "      <td>[0, 1, 0, 0, 1, 0, 0, 1]</td>\n",
       "    </tr>\n",
       "    <tr>\n",
       "      <th>4326</th>\n",
       "      <td>0</td>\n",
       "      <td>1</td>\n",
       "      <td>0</td>\n",
       "      <td>0</td>\n",
       "      <td>1</td>\n",
       "      <td>0</td>\n",
       "      <td>0</td>\n",
       "      <td>1</td>\n",
       "      <td>[0, 1, 0, 0, 1, 0, 0, 1]</td>\n",
       "    </tr>\n",
       "    <tr>\n",
       "      <th>4327</th>\n",
       "      <td>0</td>\n",
       "      <td>1</td>\n",
       "      <td>0</td>\n",
       "      <td>0</td>\n",
       "      <td>1</td>\n",
       "      <td>0</td>\n",
       "      <td>0</td>\n",
       "      <td>1</td>\n",
       "      <td>[0, 1, 0, 0, 1, 0, 0, 1]</td>\n",
       "    </tr>\n",
       "  </tbody>\n",
       "</table>\n",
       "<p>24957 rows × 9 columns</p>\n",
       "</div>"
      ],
      "text/plain": [
       "      roadSurface_FullOfHolesCondition  roadSurface_SmoothCondition  \\\n",
       "0                                    0                            1   \n",
       "1                                    0                            1   \n",
       "2                                    0                            1   \n",
       "3                                    0                            1   \n",
       "4                                    0                            1   \n",
       "...                                ...                          ...   \n",
       "4323                                 0                            1   \n",
       "4324                                 0                            1   \n",
       "4325                                 0                            1   \n",
       "4326                                 0                            1   \n",
       "4327                                 0                            1   \n",
       "\n",
       "      roadSurface_UnevenCondition  traffic_HighCongestionCondition  \\\n",
       "0                               0                                0   \n",
       "1                               0                                0   \n",
       "2                               0                                0   \n",
       "3                               0                                0   \n",
       "4                               0                                0   \n",
       "...                           ...                              ...   \n",
       "4323                            0                                0   \n",
       "4324                            0                                0   \n",
       "4325                            0                                0   \n",
       "4326                            0                                0   \n",
       "4327                            0                                0   \n",
       "\n",
       "      traffic_LowCongestionCondition  traffic_NormalCongestionCondition  \\\n",
       "0                                  1                                  0   \n",
       "1                                  1                                  0   \n",
       "2                                  1                                  0   \n",
       "3                                  1                                  0   \n",
       "4                                  1                                  0   \n",
       "...                              ...                                ...   \n",
       "4323                               1                                  0   \n",
       "4324                               1                                  0   \n",
       "4325                               1                                  0   \n",
       "4326                               1                                  0   \n",
       "4327                               1                                  0   \n",
       "\n",
       "      drivingStyle_AggressiveStyle  drivingStyle_EvenPaceStyle  \\\n",
       "0                                0                           1   \n",
       "1                                0                           1   \n",
       "2                                0                           1   \n",
       "3                                0                           1   \n",
       "4                                0                           1   \n",
       "...                            ...                         ...   \n",
       "4323                             0                           1   \n",
       "4324                             0                           1   \n",
       "4325                             0                           1   \n",
       "4326                             0                           1   \n",
       "4327                             0                           1   \n",
       "\n",
       "                        Target  \n",
       "0     [0, 1, 0, 0, 1, 0, 0, 1]  \n",
       "1     [0, 1, 0, 0, 1, 0, 0, 1]  \n",
       "2     [0, 1, 0, 0, 1, 0, 0, 1]  \n",
       "3     [0, 1, 0, 0, 1, 0, 0, 1]  \n",
       "4     [0, 1, 0, 0, 1, 0, 0, 1]  \n",
       "...                        ...  \n",
       "4323  [0, 1, 0, 0, 1, 0, 0, 1]  \n",
       "4324  [0, 1, 0, 0, 1, 0, 0, 1]  \n",
       "4325  [0, 1, 0, 0, 1, 0, 0, 1]  \n",
       "4326  [0, 1, 0, 0, 1, 0, 0, 1]  \n",
       "4327  [0, 1, 0, 0, 1, 0, 0, 1]  \n",
       "\n",
       "[24957 rows x 9 columns]"
      ]
     },
     "execution_count": 14,
     "metadata": {},
     "output_type": "execute_result"
    }
   ],
   "source": [
    "one_hot_encoding['Target']= one_hot_encoding.values.tolist()\n",
    "one_hot_encoding"
   ]
  },
  {
   "cell_type": "code",
   "execution_count": 15,
   "id": "969c17a1",
   "metadata": {
    "execution": {
     "iopub.execute_input": "2021-08-08T11:33:21.278478Z",
     "iopub.status.busy": "2021-08-08T11:33:21.277450Z",
     "iopub.status.idle": "2021-08-08T11:33:21.283403Z",
     "shell.execute_reply": "2021-08-08T11:33:21.282881Z",
     "shell.execute_reply.started": "2021-08-08T10:53:08.277747Z"
    },
    "papermill": {
     "duration": 0.082171,
     "end_time": "2021-08-08T11:33:21.283553",
     "exception": false,
     "start_time": "2021-08-08T11:33:21.201382",
     "status": "completed"
    },
    "tags": []
   },
   "outputs": [
    {
     "data": {
      "text/html": [
       "<div>\n",
       "<style scoped>\n",
       "    .dataframe tbody tr th:only-of-type {\n",
       "        vertical-align: middle;\n",
       "    }\n",
       "\n",
       "    .dataframe tbody tr th {\n",
       "        vertical-align: top;\n",
       "    }\n",
       "\n",
       "    .dataframe thead th {\n",
       "        text-align: right;\n",
       "    }\n",
       "</style>\n",
       "<table border=\"1\" class=\"dataframe\">\n",
       "  <thead>\n",
       "    <tr style=\"text-align: right;\">\n",
       "      <th></th>\n",
       "      <th>AltitudeVariation</th>\n",
       "      <th>VehicleSpeedInstantaneous</th>\n",
       "      <th>VehicleSpeedAverage</th>\n",
       "      <th>VehicleSpeedVariance</th>\n",
       "      <th>VehicleSpeedVariation</th>\n",
       "      <th>LongitudinalAcceleration</th>\n",
       "      <th>EngineLoad</th>\n",
       "      <th>EngineCoolantTemperature</th>\n",
       "      <th>ManifoldAbsolutePressure</th>\n",
       "      <th>EngineRPM</th>\n",
       "      <th>MassAirFlow</th>\n",
       "      <th>IntakeAirTemperature</th>\n",
       "      <th>VerticalAcceleration</th>\n",
       "      <th>FuelConsumptionAverage</th>\n",
       "      <th>Target</th>\n",
       "    </tr>\n",
       "  </thead>\n",
       "  <tbody>\n",
       "    <tr>\n",
       "      <th>0</th>\n",
       "      <td>0.000000</td>\n",
       "      <td>0.000000</td>\n",
       "      <td>0.000000</td>\n",
       "      <td>0.000000</td>\n",
       "      <td>0.000000</td>\n",
       "      <td>0.0418</td>\n",
       "      <td>36.470589</td>\n",
       "      <td>28.0</td>\n",
       "      <td>100.0</td>\n",
       "      <td>802.5</td>\n",
       "      <td>10.30</td>\n",
       "      <td>14.0</td>\n",
       "      <td>0.0118</td>\n",
       "      <td>0.000000</td>\n",
       "      <td>[0, 1, 0, 0, 1, 0, 0, 1]</td>\n",
       "    </tr>\n",
       "    <tr>\n",
       "      <th>1</th>\n",
       "      <td>0.000000</td>\n",
       "      <td>0.000000</td>\n",
       "      <td>0.000000</td>\n",
       "      <td>0.000000</td>\n",
       "      <td>0.000000</td>\n",
       "      <td>0.0713</td>\n",
       "      <td>36.470589</td>\n",
       "      <td>28.0</td>\n",
       "      <td>100.0</td>\n",
       "      <td>802.5</td>\n",
       "      <td>10.30</td>\n",
       "      <td>14.0</td>\n",
       "      <td>-0.0023</td>\n",
       "      <td>0.000000</td>\n",
       "      <td>[0, 1, 0, 0, 1, 0, 0, 1]</td>\n",
       "    </tr>\n",
       "    <tr>\n",
       "      <th>2</th>\n",
       "      <td>0.000000</td>\n",
       "      <td>0.000000</td>\n",
       "      <td>0.000000</td>\n",
       "      <td>0.000000</td>\n",
       "      <td>0.000000</td>\n",
       "      <td>0.0952</td>\n",
       "      <td>36.470589</td>\n",
       "      <td>29.0</td>\n",
       "      <td>100.0</td>\n",
       "      <td>798.5</td>\n",
       "      <td>10.24</td>\n",
       "      <td>14.0</td>\n",
       "      <td>-0.0135</td>\n",
       "      <td>0.000000</td>\n",
       "      <td>[0, 1, 0, 0, 1, 0, 0, 1]</td>\n",
       "    </tr>\n",
       "    <tr>\n",
       "      <th>3</th>\n",
       "      <td>0.000000</td>\n",
       "      <td>0.000000</td>\n",
       "      <td>0.000000</td>\n",
       "      <td>0.000000</td>\n",
       "      <td>0.000000</td>\n",
       "      <td>0.1136</td>\n",
       "      <td>36.470589</td>\n",
       "      <td>29.0</td>\n",
       "      <td>100.0</td>\n",
       "      <td>798.5</td>\n",
       "      <td>10.24</td>\n",
       "      <td>15.0</td>\n",
       "      <td>-0.0161</td>\n",
       "      <td>0.000000</td>\n",
       "      <td>[0, 1, 0, 0, 1, 0, 0, 1]</td>\n",
       "    </tr>\n",
       "    <tr>\n",
       "      <th>4</th>\n",
       "      <td>0.000000</td>\n",
       "      <td>0.000000</td>\n",
       "      <td>0.000000</td>\n",
       "      <td>0.000000</td>\n",
       "      <td>0.000000</td>\n",
       "      <td>0.1274</td>\n",
       "      <td>36.470589</td>\n",
       "      <td>29.0</td>\n",
       "      <td>100.0</td>\n",
       "      <td>804.5</td>\n",
       "      <td>10.36</td>\n",
       "      <td>15.0</td>\n",
       "      <td>-0.0160</td>\n",
       "      <td>0.000000</td>\n",
       "      <td>[0, 1, 0, 0, 1, 0, 0, 1]</td>\n",
       "    </tr>\n",
       "    <tr>\n",
       "      <th>...</th>\n",
       "      <td>...</td>\n",
       "      <td>...</td>\n",
       "      <td>...</td>\n",
       "      <td>...</td>\n",
       "      <td>...</td>\n",
       "      <td>...</td>\n",
       "      <td>...</td>\n",
       "      <td>...</td>\n",
       "      <td>...</td>\n",
       "      <td>...</td>\n",
       "      <td>...</td>\n",
       "      <td>...</td>\n",
       "      <td>...</td>\n",
       "      <td>...</td>\n",
       "      <td>...</td>\n",
       "    </tr>\n",
       "    <tr>\n",
       "      <th>4323</th>\n",
       "      <td>-2.800003</td>\n",
       "      <td>64.176300</td>\n",
       "      <td>57.469687</td>\n",
       "      <td>76.346241</td>\n",
       "      <td>-0.900719</td>\n",
       "      <td>0.3050</td>\n",
       "      <td>17.254902</td>\n",
       "      <td>83.0</td>\n",
       "      <td>108.0</td>\n",
       "      <td>2009.0</td>\n",
       "      <td>14.36</td>\n",
       "      <td>18.0</td>\n",
       "      <td>-0.0039</td>\n",
       "      <td>8.389318</td>\n",
       "      <td>[0, 1, 0, 0, 1, 0, 0, 1]</td>\n",
       "    </tr>\n",
       "    <tr>\n",
       "      <th>4324</th>\n",
       "      <td>-2.800003</td>\n",
       "      <td>63.275578</td>\n",
       "      <td>57.616054</td>\n",
       "      <td>76.745659</td>\n",
       "      <td>-0.900722</td>\n",
       "      <td>0.3830</td>\n",
       "      <td>20.784313</td>\n",
       "      <td>83.0</td>\n",
       "      <td>109.0</td>\n",
       "      <td>1996.0</td>\n",
       "      <td>13.83</td>\n",
       "      <td>18.0</td>\n",
       "      <td>0.0234</td>\n",
       "      <td>8.357814</td>\n",
       "      <td>[0, 1, 0, 0, 1, 0, 0, 1]</td>\n",
       "    </tr>\n",
       "    <tr>\n",
       "      <th>4325</th>\n",
       "      <td>-2.800003</td>\n",
       "      <td>62.600033</td>\n",
       "      <td>57.754915</td>\n",
       "      <td>76.957120</td>\n",
       "      <td>-0.675545</td>\n",
       "      <td>0.4370</td>\n",
       "      <td>18.823530</td>\n",
       "      <td>82.0</td>\n",
       "      <td>108.0</td>\n",
       "      <td>1982.0</td>\n",
       "      <td>13.81</td>\n",
       "      <td>18.0</td>\n",
       "      <td>0.0469</td>\n",
       "      <td>8.332450</td>\n",
       "      <td>[0, 1, 0, 0, 1, 0, 0, 1]</td>\n",
       "    </tr>\n",
       "    <tr>\n",
       "      <th>4326</th>\n",
       "      <td>-2.800003</td>\n",
       "      <td>62.600033</td>\n",
       "      <td>57.859999</td>\n",
       "      <td>77.307649</td>\n",
       "      <td>0.000000</td>\n",
       "      <td>0.4960</td>\n",
       "      <td>11.764706</td>\n",
       "      <td>82.0</td>\n",
       "      <td>106.0</td>\n",
       "      <td>1952.0</td>\n",
       "      <td>13.38</td>\n",
       "      <td>18.0</td>\n",
       "      <td>0.0586</td>\n",
       "      <td>8.305367</td>\n",
       "      <td>[0, 1, 0, 0, 1, 0, 0, 1]</td>\n",
       "    </tr>\n",
       "    <tr>\n",
       "      <th>4327</th>\n",
       "      <td>-2.800003</td>\n",
       "      <td>61.474136</td>\n",
       "      <td>57.965083</td>\n",
       "      <td>77.395081</td>\n",
       "      <td>-1.125896</td>\n",
       "      <td>0.5430</td>\n",
       "      <td>3.529412</td>\n",
       "      <td>82.0</td>\n",
       "      <td>105.0</td>\n",
       "      <td>1924.0</td>\n",
       "      <td>12.51</td>\n",
       "      <td>18.0</td>\n",
       "      <td>0.0273</td>\n",
       "      <td>8.275750</td>\n",
       "      <td>[0, 1, 0, 0, 1, 0, 0, 1]</td>\n",
       "    </tr>\n",
       "  </tbody>\n",
       "</table>\n",
       "<p>24957 rows × 15 columns</p>\n",
       "</div>"
      ],
      "text/plain": [
       "      AltitudeVariation  VehicleSpeedInstantaneous  VehicleSpeedAverage  \\\n",
       "0              0.000000                   0.000000             0.000000   \n",
       "1              0.000000                   0.000000             0.000000   \n",
       "2              0.000000                   0.000000             0.000000   \n",
       "3              0.000000                   0.000000             0.000000   \n",
       "4              0.000000                   0.000000             0.000000   \n",
       "...                 ...                        ...                  ...   \n",
       "4323          -2.800003                  64.176300            57.469687   \n",
       "4324          -2.800003                  63.275578            57.616054   \n",
       "4325          -2.800003                  62.600033            57.754915   \n",
       "4326          -2.800003                  62.600033            57.859999   \n",
       "4327          -2.800003                  61.474136            57.965083   \n",
       "\n",
       "      VehicleSpeedVariance  VehicleSpeedVariation  LongitudinalAcceleration  \\\n",
       "0                 0.000000               0.000000                    0.0418   \n",
       "1                 0.000000               0.000000                    0.0713   \n",
       "2                 0.000000               0.000000                    0.0952   \n",
       "3                 0.000000               0.000000                    0.1136   \n",
       "4                 0.000000               0.000000                    0.1274   \n",
       "...                    ...                    ...                       ...   \n",
       "4323             76.346241              -0.900719                    0.3050   \n",
       "4324             76.745659              -0.900722                    0.3830   \n",
       "4325             76.957120              -0.675545                    0.4370   \n",
       "4326             77.307649               0.000000                    0.4960   \n",
       "4327             77.395081              -1.125896                    0.5430   \n",
       "\n",
       "      EngineLoad  EngineCoolantTemperature  ManifoldAbsolutePressure  \\\n",
       "0      36.470589                      28.0                     100.0   \n",
       "1      36.470589                      28.0                     100.0   \n",
       "2      36.470589                      29.0                     100.0   \n",
       "3      36.470589                      29.0                     100.0   \n",
       "4      36.470589                      29.0                     100.0   \n",
       "...          ...                       ...                       ...   \n",
       "4323   17.254902                      83.0                     108.0   \n",
       "4324   20.784313                      83.0                     109.0   \n",
       "4325   18.823530                      82.0                     108.0   \n",
       "4326   11.764706                      82.0                     106.0   \n",
       "4327    3.529412                      82.0                     105.0   \n",
       "\n",
       "      EngineRPM  MassAirFlow  IntakeAirTemperature  VerticalAcceleration  \\\n",
       "0         802.5        10.30                  14.0                0.0118   \n",
       "1         802.5        10.30                  14.0               -0.0023   \n",
       "2         798.5        10.24                  14.0               -0.0135   \n",
       "3         798.5        10.24                  15.0               -0.0161   \n",
       "4         804.5        10.36                  15.0               -0.0160   \n",
       "...         ...          ...                   ...                   ...   \n",
       "4323     2009.0        14.36                  18.0               -0.0039   \n",
       "4324     1996.0        13.83                  18.0                0.0234   \n",
       "4325     1982.0        13.81                  18.0                0.0469   \n",
       "4326     1952.0        13.38                  18.0                0.0586   \n",
       "4327     1924.0        12.51                  18.0                0.0273   \n",
       "\n",
       "      FuelConsumptionAverage                    Target  \n",
       "0                   0.000000  [0, 1, 0, 0, 1, 0, 0, 1]  \n",
       "1                   0.000000  [0, 1, 0, 0, 1, 0, 0, 1]  \n",
       "2                   0.000000  [0, 1, 0, 0, 1, 0, 0, 1]  \n",
       "3                   0.000000  [0, 1, 0, 0, 1, 0, 0, 1]  \n",
       "4                   0.000000  [0, 1, 0, 0, 1, 0, 0, 1]  \n",
       "...                      ...                       ...  \n",
       "4323                8.389318  [0, 1, 0, 0, 1, 0, 0, 1]  \n",
       "4324                8.357814  [0, 1, 0, 0, 1, 0, 0, 1]  \n",
       "4325                8.332450  [0, 1, 0, 0, 1, 0, 0, 1]  \n",
       "4326                8.305367  [0, 1, 0, 0, 1, 0, 0, 1]  \n",
       "4327                8.275750  [0, 1, 0, 0, 1, 0, 0, 1]  \n",
       "\n",
       "[24957 rows x 15 columns]"
      ]
     },
     "execution_count": 15,
     "metadata": {},
     "output_type": "execute_result"
    }
   ],
   "source": [
    "df_processed = df_new.drop([\"roadSurface\", \"traffic\", \"drivingStyle\"], axis = 1)\n",
    "df_processed['Target'] = one_hot_encoding['Target']\n",
    "df_processed"
   ]
  },
  {
   "cell_type": "code",
   "execution_count": 16,
   "id": "b5d62737",
   "metadata": {
    "execution": {
     "iopub.execute_input": "2021-08-08T11:33:21.356119Z",
     "iopub.status.busy": "2021-08-08T11:33:21.355497Z",
     "iopub.status.idle": "2021-08-08T11:33:22.211259Z",
     "shell.execute_reply": "2021-08-08T11:33:22.211873Z",
     "shell.execute_reply.started": "2021-08-08T11:05:12.582921Z"
    },
    "papermill": {
     "duration": 0.894674,
     "end_time": "2021-08-08T11:33:22.212080",
     "exception": false,
     "start_time": "2021-08-08T11:33:21.317406",
     "status": "completed"
    },
    "tags": []
   },
   "outputs": [],
   "source": [
    "from sklearn.utils import shuffle\n",
    "df_processed = shuffle(df_processed)"
   ]
  },
  {
   "cell_type": "code",
   "execution_count": 17,
   "id": "ca2fa759",
   "metadata": {
    "execution": {
     "iopub.execute_input": "2021-08-08T11:33:22.376139Z",
     "iopub.status.busy": "2021-08-08T11:33:22.375248Z",
     "iopub.status.idle": "2021-08-08T11:33:22.379746Z",
     "shell.execute_reply": "2021-08-08T11:33:22.380756Z",
     "shell.execute_reply.started": "2021-08-08T11:05:13.829610Z"
    },
    "papermill": {
     "duration": 0.137038,
     "end_time": "2021-08-08T11:33:22.381007",
     "exception": false,
     "start_time": "2021-08-08T11:33:22.243969",
     "status": "completed"
    },
    "tags": []
   },
   "outputs": [
    {
     "name": "stdout",
     "output_type": "stream",
     "text": [
      "(24957, 14)\n",
      "(24957, 8)\n"
     ]
    }
   ],
   "source": [
    "x_train = df_processed.drop(['Target'], axis=1)\n",
    "y_train = np.array(df_processed['Target'].values.tolist())\n",
    "print(x_train.shape)\n",
    "print(y_train.shape)"
   ]
  },
  {
   "cell_type": "code",
   "execution_count": 18,
   "id": "eed4c53e",
   "metadata": {
    "execution": {
     "iopub.execute_input": "2021-08-08T11:33:22.453792Z",
     "iopub.status.busy": "2021-08-08T11:33:22.453105Z",
     "iopub.status.idle": "2021-08-08T11:33:22.549657Z",
     "shell.execute_reply": "2021-08-08T11:33:22.550128Z",
     "shell.execute_reply.started": "2021-08-08T11:05:16.969685Z"
    },
    "papermill": {
     "duration": 0.135456,
     "end_time": "2021-08-08T11:33:22.550341",
     "exception": false,
     "start_time": "2021-08-08T11:33:22.414885",
     "status": "completed"
    },
    "tags": []
   },
   "outputs": [
    {
     "name": "stdout",
     "output_type": "stream",
     "text": [
      "(19965, 14) (4992, 14) (19965, 8) (4992, 8)\n"
     ]
    }
   ],
   "source": [
    "from sklearn.model_selection import train_test_split\n",
    "X_train, X_test, y_train, y_test = train_test_split(x_train, y_train, test_size=0.2, random_state=1)\n",
    "print(X_train.shape, X_test.shape, y_train.shape, y_test.shape)"
   ]
  },
  {
   "cell_type": "code",
   "execution_count": 19,
   "id": "c7dad546",
   "metadata": {
    "execution": {
     "iopub.execute_input": "2021-08-08T11:33:22.622242Z",
     "iopub.status.busy": "2021-08-08T11:33:22.621153Z",
     "iopub.status.idle": "2021-08-08T11:33:22.634481Z",
     "shell.execute_reply": "2021-08-08T11:33:22.633916Z",
     "shell.execute_reply.started": "2021-08-08T11:05:19.073064Z"
    },
    "papermill": {
     "duration": 0.05246,
     "end_time": "2021-08-08T11:33:22.634623",
     "exception": false,
     "start_time": "2021-08-08T11:33:22.582163",
     "status": "completed"
    },
    "tags": []
   },
   "outputs": [
    {
     "name": "stdout",
     "output_type": "stream",
     "text": [
      "(19965, 14)\n",
      "(4992, 14)\n"
     ]
    }
   ],
   "source": [
    "from sklearn import preprocessing\n",
    "\n",
    "min_max_scaler = preprocessing.MinMaxScaler()\n",
    "x_scaled = min_max_scaler.fit(X_train)\n",
    "\n",
    "x_train_transformed = min_max_scaler.transform(X_train)\n",
    "x_test_transformed = min_max_scaler.transform(X_test)\n",
    "\n",
    "\n",
    "print(x_train_transformed.shape)\n",
    "print(x_test_transformed.shape)"
   ]
  },
  {
   "cell_type": "code",
   "execution_count": 20,
   "id": "2605f3db",
   "metadata": {
    "execution": {
     "iopub.execute_input": "2021-08-08T11:33:22.706847Z",
     "iopub.status.busy": "2021-08-08T11:33:22.706117Z",
     "iopub.status.idle": "2021-08-08T11:33:22.711022Z",
     "shell.execute_reply": "2021-08-08T11:33:22.710488Z",
     "shell.execute_reply.started": "2021-08-08T11:05:21.415821Z"
    },
    "papermill": {
     "duration": 0.043395,
     "end_time": "2021-08-08T11:33:22.711168",
     "exception": false,
     "start_time": "2021-08-08T11:33:22.667773",
     "status": "completed"
    },
    "tags": []
   },
   "outputs": [
    {
     "name": "stdout",
     "output_type": "stream",
     "text": [
      "(19965, 8)\n",
      "(4992, 8)\n"
     ]
    }
   ],
   "source": [
    "print(y_train.shape)\n",
    "print(y_test.shape)"
   ]
  },
  {
   "cell_type": "code",
   "execution_count": 21,
   "id": "f2385d43",
   "metadata": {
    "execution": {
     "iopub.execute_input": "2021-08-08T11:33:22.784540Z",
     "iopub.status.busy": "2021-08-08T11:33:22.783883Z",
     "iopub.status.idle": "2021-08-08T11:33:38.177667Z",
     "shell.execute_reply": "2021-08-08T11:33:38.176892Z",
     "shell.execute_reply.started": "2021-08-08T11:05:27.496038Z"
    },
    "papermill": {
     "duration": 15.432948,
     "end_time": "2021-08-08T11:33:38.177817",
     "exception": false,
     "start_time": "2021-08-08T11:33:22.744869",
     "status": "completed"
    },
    "tags": []
   },
   "outputs": [
    {
     "data": {
      "text/plain": [
       "MultiOutputClassifier(estimator=RandomForestClassifier(random_state=1),\n",
       "                      n_jobs=-1)"
      ]
     },
     "execution_count": 21,
     "metadata": {},
     "output_type": "execute_result"
    }
   ],
   "source": [
    "from sklearn.multioutput import MultiOutputClassifier\n",
    "from sklearn.ensemble import RandomForestClassifier\n",
    "\n",
    "forest = RandomForestClassifier(random_state=1)\n",
    "multi_target_forest = MultiOutputClassifier(forest, n_jobs=-1)\n",
    "multi_target_forest.fit(x_train_transformed, y_train)"
   ]
  },
  {
   "cell_type": "code",
   "execution_count": 22,
   "id": "d29b9e8c",
   "metadata": {
    "execution": {
     "iopub.execute_input": "2021-08-08T11:33:38.255132Z",
     "iopub.status.busy": "2021-08-08T11:33:38.254291Z",
     "iopub.status.idle": "2021-08-08T11:33:39.103679Z",
     "shell.execute_reply": "2021-08-08T11:33:39.104187Z",
     "shell.execute_reply.started": "2021-08-08T11:11:14.966265Z"
    },
    "papermill": {
     "duration": 0.891605,
     "end_time": "2021-08-08T11:33:39.104409",
     "exception": false,
     "start_time": "2021-08-08T11:33:38.212804",
     "status": "completed"
    },
    "tags": []
   },
   "outputs": [
    {
     "data": {
      "text/plain": [
       "array([[0, 1, 0, ..., 0, 0, 1],\n",
       "       [0, 1, 0, ..., 0, 0, 1],\n",
       "       [0, 1, 0, ..., 0, 0, 1],\n",
       "       ...,\n",
       "       [0, 0, 1, ..., 1, 0, 1],\n",
       "       [0, 0, 1, ..., 0, 0, 1],\n",
       "       [0, 1, 0, ..., 0, 0, 1]])"
      ]
     },
     "execution_count": 22,
     "metadata": {},
     "output_type": "execute_result"
    }
   ],
   "source": [
    "y_test_predicted = multi_target_forest.predict(x_test_transformed)\n",
    "y_test_predicted"
   ]
  },
  {
   "cell_type": "code",
   "execution_count": 23,
   "id": "5a215f74",
   "metadata": {
    "execution": {
     "iopub.execute_input": "2021-08-08T11:33:39.180405Z",
     "iopub.status.busy": "2021-08-08T11:33:39.179750Z",
     "iopub.status.idle": "2021-08-08T11:33:39.187815Z",
     "shell.execute_reply": "2021-08-08T11:33:39.188422Z",
     "shell.execute_reply.started": "2021-08-08T11:11:42.955506Z"
    },
    "papermill": {
     "duration": 0.044812,
     "end_time": "2021-08-08T11:33:39.188642",
     "exception": false,
     "start_time": "2021-08-08T11:33:39.143830",
     "status": "completed"
    },
    "tags": []
   },
   "outputs": [
    {
     "name": "stdout",
     "output_type": "stream",
     "text": [
      "(4992, 8)\n",
      "(4992, 8)\n"
     ]
    }
   ],
   "source": [
    "print(y_test.shape)\n",
    "print(y_test_predicted.shape)"
   ]
  },
  {
   "cell_type": "code",
   "execution_count": 24,
   "id": "7c6233d7",
   "metadata": {
    "execution": {
     "iopub.execute_input": "2021-08-08T11:33:39.266679Z",
     "iopub.status.busy": "2021-08-08T11:33:39.265403Z",
     "iopub.status.idle": "2021-08-08T11:33:39.285243Z",
     "shell.execute_reply": "2021-08-08T11:33:39.284709Z",
     "shell.execute_reply.started": "2021-08-08T11:12:52.358828Z"
    },
    "papermill": {
     "duration": 0.059723,
     "end_time": "2021-08-08T11:33:39.285419",
     "exception": false,
     "start_time": "2021-08-08T11:33:39.225696",
     "status": "completed"
    },
    "tags": []
   },
   "outputs": [
    {
     "data": {
      "text/plain": [
       "0.9092548076923077"
      ]
     },
     "execution_count": 24,
     "metadata": {},
     "output_type": "execute_result"
    }
   ],
   "source": [
    "from sklearn.metrics import accuracy_score\n",
    "score = accuracy_score(y_test, y_test_predicted)\n",
    "score"
   ]
  },
  {
   "cell_type": "code",
   "execution_count": 25,
   "id": "39d98093",
   "metadata": {
    "execution": {
     "iopub.execute_input": "2021-08-08T11:33:39.368432Z",
     "iopub.status.busy": "2021-08-08T11:33:39.367432Z",
     "iopub.status.idle": "2021-08-08T11:33:40.308236Z",
     "shell.execute_reply": "2021-08-08T11:33:40.308893Z",
     "shell.execute_reply.started": "2021-08-08T11:15:19.651633Z"
    },
    "papermill": {
     "duration": 0.98599,
     "end_time": "2021-08-08T11:33:40.309112",
     "exception": false,
     "start_time": "2021-08-08T11:33:39.323122",
     "status": "completed"
    },
    "tags": []
   },
   "outputs": [
    {
     "name": "stdout",
     "output_type": "stream",
     "text": [
      "0.8353365384615384\n"
     ]
    }
   ],
   "source": [
    "from sklearn.tree import DecisionTreeClassifier\n",
    "\n",
    "forest = DecisionTreeClassifier(random_state=1)\n",
    "multi_target_forest = MultiOutputClassifier(forest, n_jobs=-1)\n",
    "multi_target_forest.fit(x_train_transformed, y_train)\n",
    "\n",
    "y_test_predicted = multi_target_forest.predict(x_test_transformed)\n",
    "score = accuracy_score(y_test, y_test_predicted)\n",
    "print(score)"
   ]
  },
  {
   "cell_type": "code",
   "execution_count": 26,
   "id": "30166050",
   "metadata": {
    "execution": {
     "iopub.execute_input": "2021-08-08T11:33:40.388736Z",
     "iopub.status.busy": "2021-08-08T11:33:40.388080Z",
     "iopub.status.idle": "2021-08-08T11:33:40.395014Z",
     "shell.execute_reply": "2021-08-08T11:33:40.395495Z",
     "shell.execute_reply.started": "2021-08-08T11:18:10.683173Z"
    },
    "papermill": {
     "duration": 0.048034,
     "end_time": "2021-08-08T11:33:40.395686",
     "exception": false,
     "start_time": "2021-08-08T11:33:40.347652",
     "status": "completed"
    },
    "tags": []
   },
   "outputs": [
    {
     "name": "stdout",
     "output_type": "stream",
     "text": [
      "['FullOfHolesCondition', 'SmoothCondition', 'UnevenCondition', 'HighCongestionCondition', 'LowCongestionCondition', 'NormalCongestionCondition', 'AggressiveStyle', 'EvenPaceStyle']\n",
      "8\n"
     ]
    }
   ],
   "source": [
    "cols = list(one_hot_encoding.columns)[:-1]\n",
    "\n",
    "ordered_values =[]\n",
    "for i in cols:\n",
    "    ordered_values.append(i.split(\"_\")[1])\n",
    "    \n",
    "print(ordered_values)\n",
    "print(len(ordered_values))"
   ]
  },
  {
   "cell_type": "code",
   "execution_count": 27,
   "id": "ecd70f15",
   "metadata": {
    "execution": {
     "iopub.execute_input": "2021-08-08T11:33:40.477989Z",
     "iopub.status.busy": "2021-08-08T11:33:40.477269Z",
     "iopub.status.idle": "2021-08-08T11:33:40.481403Z",
     "shell.execute_reply": "2021-08-08T11:33:40.480872Z",
     "shell.execute_reply.started": "2021-08-08T11:18:23.223704Z"
    },
    "papermill": {
     "duration": 0.046992,
     "end_time": "2021-08-08T11:33:40.481554",
     "exception": false,
     "start_time": "2021-08-08T11:33:40.434562",
     "status": "completed"
    },
    "tags": []
   },
   "outputs": [
    {
     "name": "stdout",
     "output_type": "stream",
     "text": [
      "(4992, 8)\n"
     ]
    }
   ],
   "source": [
    "print(y_test_predicted.shape)"
   ]
  },
  {
   "cell_type": "code",
   "execution_count": 28,
   "id": "123421dd",
   "metadata": {
    "execution": {
     "iopub.execute_input": "2021-08-08T11:33:40.567717Z",
     "iopub.status.busy": "2021-08-08T11:33:40.562291Z",
     "iopub.status.idle": "2021-08-08T11:33:40.611741Z",
     "shell.execute_reply": "2021-08-08T11:33:40.611147Z",
     "shell.execute_reply.started": "2021-08-08T11:25:10.125917Z"
    },
    "papermill": {
     "duration": 0.094476,
     "end_time": "2021-08-08T11:33:40.611893",
     "exception": false,
     "start_time": "2021-08-08T11:33:40.517417",
     "status": "completed"
    },
    "tags": []
   },
   "outputs": [
    {
     "data": {
      "text/plain": [
       "[['SmoothCondition', 'LowCongestionCondition', 'EvenPaceStyle'],\n",
       " ['SmoothCondition', 'LowCongestionCondition', 'EvenPaceStyle'],\n",
       " ['SmoothCondition', 'LowCongestionCondition', 'EvenPaceStyle'],\n",
       " ['UnevenCondition', 'LowCongestionCondition', 'AggressiveStyle'],\n",
       " ['SmoothCondition', 'LowCongestionCondition', 'EvenPaceStyle'],\n",
       " ['UnevenCondition', 'NormalCongestionCondition', 'EvenPaceStyle'],\n",
       " ['SmoothCondition', 'LowCongestionCondition', 'EvenPaceStyle'],\n",
       " ['SmoothCondition',\n",
       "  'UnevenCondition',\n",
       "  'NormalCongestionCondition',\n",
       "  'EvenPaceStyle'],\n",
       " ['SmoothCondition', 'LowCongestionCondition', 'EvenPaceStyle'],\n",
       " ['FullOfHolesCondition', 'LowCongestionCondition', 'EvenPaceStyle']]"
      ]
     },
     "execution_count": 28,
     "metadata": {},
     "output_type": "execute_result"
    }
   ],
   "source": [
    "def convert_results(y_test_predicted, ordered_values):\n",
    "    final_prediction = []\n",
    "    for each_prediction in y_test_predicted:\n",
    "        sub_list = []\n",
    "        for i, j in enumerate(list(each_prediction)):\n",
    "            if j == 1:\n",
    "                sub_list.append(ordered_values[i])\n",
    "        final_prediction.append(sub_list)\n",
    "    return final_prediction\n",
    "\n",
    "\n",
    "final_prediction = convert_results(y_test_predicted, ordered_values)\n",
    "final_prediction[:10]"
   ]
  },
  {
   "cell_type": "markdown",
   "id": "98639d32",
   "metadata": {
    "papermill": {
     "duration": 0.038396,
     "end_time": "2021-08-08T11:33:40.688022",
     "exception": false,
     "start_time": "2021-08-08T11:33:40.649626",
     "status": "completed"
    },
    "tags": []
   },
   "source": [
    "# Modelling"
   ]
  },
  {
   "cell_type": "markdown",
   "id": "32e2432b",
   "metadata": {
    "papermill": {
     "duration": 0.048147,
     "end_time": "2021-08-08T11:33:40.778264",
     "exception": false,
     "start_time": "2021-08-08T11:33:40.730117",
     "status": "completed"
    },
    "tags": []
   },
   "source": [
    "1. Standardize the data.\n",
    "2. Split the data into train, cross_Validate_test.\n",
    "3. Try out multiple models.\n",
    "4. Plot accuracuies for multiple models.\n",
    "\n",
    "Try out - \n",
    "\n",
    "1. Different imputation vlaues for Nan\n",
    "2. Try to0 balance the data if there is imbalance.\n",
    "3. Do exploratory data analysis."
   ]
  }
 ],
 "metadata": {
  "kernelspec": {
   "display_name": "Python 3",
   "language": "python",
   "name": "python3"
  },
  "language_info": {
   "codemirror_mode": {
    "name": "ipython",
    "version": 3
   },
   "file_extension": ".py",
   "mimetype": "text/x-python",
   "name": "python",
   "nbconvert_exporter": "python",
   "pygments_lexer": "ipython3",
   "version": "3.7.10"
  },
  "papermill": {
   "default_parameters": {},
   "duration": 32.91934,
   "end_time": "2021-08-08T11:33:42.420473",
   "environment_variables": {},
   "exception": null,
   "input_path": "__notebook__.ipynb",
   "output_path": "__notebook__.ipynb",
   "parameters": {},
   "start_time": "2021-08-08T11:33:09.501133",
   "version": "2.3.3"
  }
 },
 "nbformat": 4,
 "nbformat_minor": 5
}
