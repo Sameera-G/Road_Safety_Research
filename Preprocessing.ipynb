{
 "cells": [
  {
   "cell_type": "code",
   "execution_count": 1,
   "metadata": {
    "ExecuteTime": {
     "end_time": "2023-04-11T22:47:44.582243Z",
     "start_time": "2023-04-11T22:47:36.920857Z"
    }
   },
   "outputs": [],
   "source": [
    "from pyspark.sql import SparkSession\n",
    "spark = SparkSession.builder\\\n",
    ".appName('app_name') \\\n",
    ".master('local[*]') \\\n",
    ".config('spark.sql.execution.arrow.pyspark.enabled', True) \\\n",
    ".config('spark.sql.session.timeZone', 'UTC') \\\n",
    ".config('spark.driver.memory','32G') \\\n",
    ".config('spark.ui.showConsoleProgress', True) \\\n",
    ".config('spark.sql.repl.eagerEval.enabled', True) \\\n",
    ".getOrCreate()\n",
    "sc = spark.sparkContext\n",
    "from pyspark.sql import Row\n",
    "import numpy as np\n",
    "import pandas as pd\n",
    "from pyspark.sql.types import *\n",
    "from pyspark.sql.functions import *\n",
    "import matplotlib.pyplot as plt\n",
    "from pyspark.sql import functions as fn\n",
    "from pyspark.ml import feature, regression, evaluation, Pipeline\n",
    "import seaborn as sns\n",
    "from pyspark.ml.feature import VectorAssembler\n",
    "from pyspark.ml import Pipeline\n",
    "from pyspark.ml.regression import LinearRegression\n",
    "from pyspark.ml.stat import Correlation\n",
    "import matplotlib.pyplot as plt"
   ]
  },
  {
   "cell_type": "code",
   "execution_count": 2,
   "metadata": {
    "ExecuteTime": {
     "end_time": "2023-04-11T22:47:44.588302Z",
     "start_time": "2023-04-11T22:47:44.584635Z"
    }
   },
   "outputs": [],
   "source": [
    "# Do not delete or change this cell\n",
    "import os\n",
    "def is_databricks():\n",
    "    # get the databricks runtime version\n",
    "    db_env = os.getenv(\"DATABRICKS_RUNTIME_VERSION\")\n",
    "    \n",
    "    # if running on data bricks\n",
    "    if db_env != None:\n",
    "        return True\n",
    "    else:\n",
    "        return False\n",
    "\n",
    "# Define a function to read the data file.\n",
    "def get_training_filename(data_file_name):    \n",
    "    if is_databricks():\n",
    "        full_path_name = \"/FileStore/tables/%s\" % data_file_name\n",
    "    else:\n",
    "        full_path_name = data_file_name\n",
    "    return full_path_name"
   ]
  },
  {
   "cell_type": "code",
   "execution_count": 3,
   "metadata": {
    "ExecuteTime": {
     "end_time": "2023-04-11T22:48:49.845715Z",
     "start_time": "2023-04-11T22:47:44.589887Z"
    }
   },
   "outputs": [],
   "source": [
    "# Reading the csv file in us_acci dataframe\n",
    "us_traffic = spark.read.csv(get_training_filename('US_Accidents.csv'), header = True, inferSchema = True)"
   ]
  },
  {
   "cell_type": "code",
   "execution_count": 4,
   "metadata": {
    "ExecuteTime": {
     "end_time": "2023-04-11T22:48:54.599858Z",
     "start_time": "2023-04-11T22:48:49.847917Z"
    }
   },
   "outputs": [
    {
     "name": "stdout",
     "output_type": "stream",
     "text": [
      "Shape is  (2845342, 47)\n"
     ]
    }
   ],
   "source": [
    "# Shape of the spark dataframe\n",
    "\n",
    "print('Shape is ',(us_traffic.count(),len(us_traffic.columns)))"
   ]
  },
  {
   "cell_type": "code",
   "execution_count": 5,
   "metadata": {
    "ExecuteTime": {
     "end_time": "2023-04-11T22:48:54.807080Z",
     "start_time": "2023-04-11T22:48:54.601342Z"
    }
   },
   "outputs": [],
   "source": [
    "# Renaming the columns names which contain brackets for ease of usage\n",
    "\n",
    "us_traffic = us_traffic.select('*').withColumnRenamed('Distance(mi)','Distance')\\\n",
    "    .withColumnRenamed('Temperature(F)', 'Temperature').withColumnRenamed('Wind_Chill(F)', 'Wind_Chill')\\\n",
    "    .withColumnRenamed('Humidity(%)', 'Humidity').withColumnRenamed('Pressure(in)', 'Pressure')\\\n",
    "    .withColumnRenamed('Visibility(mi)', 'Visibility').withColumnRenamed('Wind_Speed(mph)', 'Wind_Speed')\\\n",
    "    .withColumnRenamed('Precipitation(in)', 'Precipitation')"
   ]
  },
  {
   "cell_type": "code",
   "execution_count": 6,
   "metadata": {
    "ExecuteTime": {
     "end_time": "2023-04-11T22:48:54.812411Z",
     "start_time": "2023-04-11T22:48:54.808625Z"
    },
    "scrolled": true
   },
   "outputs": [
    {
     "name": "stdout",
     "output_type": "stream",
     "text": [
      "root\n",
      " |-- ID: string (nullable = true)\n",
      " |-- Severity: integer (nullable = true)\n",
      " |-- Start_Time: timestamp (nullable = true)\n",
      " |-- End_Time: timestamp (nullable = true)\n",
      " |-- Start_Lat: double (nullable = true)\n",
      " |-- Start_Lng: double (nullable = true)\n",
      " |-- End_Lat: double (nullable = true)\n",
      " |-- End_Lng: double (nullable = true)\n",
      " |-- Distance: double (nullable = true)\n",
      " |-- Description: string (nullable = true)\n",
      " |-- Number: double (nullable = true)\n",
      " |-- Street: string (nullable = true)\n",
      " |-- Side: string (nullable = true)\n",
      " |-- City: string (nullable = true)\n",
      " |-- County: string (nullable = true)\n",
      " |-- State: string (nullable = true)\n",
      " |-- Zipcode: string (nullable = true)\n",
      " |-- Country: string (nullable = true)\n",
      " |-- Timezone: string (nullable = true)\n",
      " |-- Airport_Code: string (nullable = true)\n",
      " |-- Weather_Timestamp: timestamp (nullable = true)\n",
      " |-- Temperature: double (nullable = true)\n",
      " |-- Wind_Chill: double (nullable = true)\n",
      " |-- Humidity: double (nullable = true)\n",
      " |-- Pressure: double (nullable = true)\n",
      " |-- Visibility: double (nullable = true)\n",
      " |-- Wind_Direction: string (nullable = true)\n",
      " |-- Wind_Speed: double (nullable = true)\n",
      " |-- Precipitation: double (nullable = true)\n",
      " |-- Weather_Condition: string (nullable = true)\n",
      " |-- Amenity: boolean (nullable = true)\n",
      " |-- Bump: boolean (nullable = true)\n",
      " |-- Crossing: boolean (nullable = true)\n",
      " |-- Give_Way: boolean (nullable = true)\n",
      " |-- Junction: boolean (nullable = true)\n",
      " |-- No_Exit: boolean (nullable = true)\n",
      " |-- Railway: boolean (nullable = true)\n",
      " |-- Roundabout: boolean (nullable = true)\n",
      " |-- Station: boolean (nullable = true)\n",
      " |-- Stop: boolean (nullable = true)\n",
      " |-- Traffic_Calming: boolean (nullable = true)\n",
      " |-- Traffic_Signal: boolean (nullable = true)\n",
      " |-- Turning_Loop: boolean (nullable = true)\n",
      " |-- Sunrise_Sunset: string (nullable = true)\n",
      " |-- Civil_Twilight: string (nullable = true)\n",
      " |-- Nautical_Twilight: string (nullable = true)\n",
      " |-- Astronomical_Twilight: string (nullable = true)\n",
      "\n"
     ]
    }
   ],
   "source": [
    "# Schema of dataframe with datatypes of all columns\n",
    "\n",
    "us_traffic.printSchema()"
   ]
  },
  {
   "cell_type": "code",
   "execution_count": 7,
   "metadata": {
    "ExecuteTime": {
     "end_time": "2023-04-11T22:51:58.400130Z",
     "start_time": "2023-04-11T22:48:54.813713Z"
    }
   },
   "outputs": [
    {
     "data": {
      "text/html": [
       "<div>\n",
       "<style scoped>\n",
       "    .dataframe tbody tr th:only-of-type {\n",
       "        vertical-align: middle;\n",
       "    }\n",
       "\n",
       "    .dataframe tbody tr th {\n",
       "        vertical-align: top;\n",
       "    }\n",
       "\n",
       "    .dataframe thead th {\n",
       "        text-align: right;\n",
       "    }\n",
       "</style>\n",
       "<table border=\"1\" class=\"dataframe\">\n",
       "  <thead>\n",
       "    <tr style=\"text-align: right;\">\n",
       "      <th></th>\n",
       "      <th>summary</th>\n",
       "      <th>ID</th>\n",
       "      <th>Severity</th>\n",
       "      <th>Start_Lat</th>\n",
       "      <th>Start_Lng</th>\n",
       "      <th>End_Lat</th>\n",
       "      <th>End_Lng</th>\n",
       "      <th>Distance</th>\n",
       "      <th>Description</th>\n",
       "      <th>Number</th>\n",
       "      <th>...</th>\n",
       "      <th>Pressure</th>\n",
       "      <th>Visibility</th>\n",
       "      <th>Wind_Direction</th>\n",
       "      <th>Wind_Speed</th>\n",
       "      <th>Precipitation</th>\n",
       "      <th>Weather_Condition</th>\n",
       "      <th>Sunrise_Sunset</th>\n",
       "      <th>Civil_Twilight</th>\n",
       "      <th>Nautical_Twilight</th>\n",
       "      <th>Astronomical_Twilight</th>\n",
       "    </tr>\n",
       "  </thead>\n",
       "  <tbody>\n",
       "    <tr>\n",
       "      <th>0</th>\n",
       "      <td>count</td>\n",
       "      <td>2845342</td>\n",
       "      <td>2845342</td>\n",
       "      <td>2845342</td>\n",
       "      <td>2845342</td>\n",
       "      <td>2845342</td>\n",
       "      <td>2845342</td>\n",
       "      <td>2845342</td>\n",
       "      <td>2845342</td>\n",
       "      <td>1101431</td>\n",
       "      <td>...</td>\n",
       "      <td>2786142</td>\n",
       "      <td>2774796</td>\n",
       "      <td>2771567</td>\n",
       "      <td>2687398</td>\n",
       "      <td>2295884</td>\n",
       "      <td>2774706</td>\n",
       "      <td>2842475</td>\n",
       "      <td>2842475</td>\n",
       "      <td>2842475</td>\n",
       "      <td>2842475</td>\n",
       "    </tr>\n",
       "    <tr>\n",
       "      <th>1</th>\n",
       "      <td>mean</td>\n",
       "      <td>None</td>\n",
       "      <td>2.137571511614421</td>\n",
       "      <td>36.24520054185866</td>\n",
       "      <td>-97.11463289012681</td>\n",
       "      <td>36.24532079368951</td>\n",
       "      <td>-97.11438709551649</td>\n",
       "      <td>0.7026778946081038</td>\n",
       "      <td>1092.0</td>\n",
       "      <td>8089.408113626728</td>\n",
       "      <td>...</td>\n",
       "      <td>29.472344381585412</td>\n",
       "      <td>9.099391310208052</td>\n",
       "      <td>None</td>\n",
       "      <td>7.3950442026081875</td>\n",
       "      <td>0.007016939880237102</td>\n",
       "      <td>None</td>\n",
       "      <td>None</td>\n",
       "      <td>None</td>\n",
       "      <td>None</td>\n",
       "      <td>None</td>\n",
       "    </tr>\n",
       "    <tr>\n",
       "      <th>2</th>\n",
       "      <td>stddev</td>\n",
       "      <td>None</td>\n",
       "      <td>0.47872161859380974</td>\n",
       "      <td>5.36379745983604</td>\n",
       "      <td>18.317819121693926</td>\n",
       "      <td>5.363872991165174</td>\n",
       "      <td>18.317632423289847</td>\n",
       "      <td>1.56036082534385</td>\n",
       "      <td>177.90446874657198</td>\n",
       "      <td>18360.09399458918</td>\n",
       "      <td>...</td>\n",
       "      <td>1.0452864968682465</td>\n",
       "      <td>2.7175457451003693</td>\n",
       "      <td>None</td>\n",
       "      <td>5.527453950436704</td>\n",
       "      <td>0.09348831171402873</td>\n",
       "      <td>None</td>\n",
       "      <td>None</td>\n",
       "      <td>None</td>\n",
       "      <td>None</td>\n",
       "      <td>None</td>\n",
       "    </tr>\n",
       "    <tr>\n",
       "      <th>3</th>\n",
       "      <td>min</td>\n",
       "      <td>A-1</td>\n",
       "      <td>1</td>\n",
       "      <td>24.566027</td>\n",
       "      <td>-124.548074</td>\n",
       "      <td>24.566013</td>\n",
       "      <td>-124.545748</td>\n",
       "      <td>0.0</td>\n",
       "      <td>1039 GOLDEN BEAR - BOT</td>\n",
       "      <td>0.0</td>\n",
       "      <td>...</td>\n",
       "      <td>0.0</td>\n",
       "      <td>0.0</td>\n",
       "      <td>CALM</td>\n",
       "      <td>0.0</td>\n",
       "      <td>0.0</td>\n",
       "      <td>Blowing Dust</td>\n",
       "      <td>Day</td>\n",
       "      <td>Day</td>\n",
       "      <td>Day</td>\n",
       "      <td>Day</td>\n",
       "    </tr>\n",
       "    <tr>\n",
       "      <th>4</th>\n",
       "      <td>max</td>\n",
       "      <td>A-999999</td>\n",
       "      <td>4</td>\n",
       "      <td>49.00058</td>\n",
       "      <td>-67.113167</td>\n",
       "      <td>49.075</td>\n",
       "      <td>-67.10924200000001</td>\n",
       "      <td>155.186</td>\n",
       "      <td>x DRESSER RANCH PL. LL SLOSO - DIRECTIONS PER ...</td>\n",
       "      <td>9999997.0</td>\n",
       "      <td>...</td>\n",
       "      <td>58.9</td>\n",
       "      <td>140.0</td>\n",
       "      <td>West</td>\n",
       "      <td>1087.0</td>\n",
       "      <td>24.0</td>\n",
       "      <td>Wintry Mix / Windy</td>\n",
       "      <td>Night</td>\n",
       "      <td>Night</td>\n",
       "      <td>Night</td>\n",
       "      <td>Night</td>\n",
       "    </tr>\n",
       "  </tbody>\n",
       "</table>\n",
       "<p>5 rows × 32 columns</p>\n",
       "</div>"
      ],
      "text/plain": [
       "  summary        ID             Severity          Start_Lat  \\\n",
       "0   count   2845342              2845342            2845342   \n",
       "1    mean      None    2.137571511614421  36.24520054185866   \n",
       "2  stddev      None  0.47872161859380974   5.36379745983604   \n",
       "3     min       A-1                    1          24.566027   \n",
       "4     max  A-999999                    4           49.00058   \n",
       "\n",
       "            Start_Lng            End_Lat             End_Lng  \\\n",
       "0             2845342            2845342             2845342   \n",
       "1  -97.11463289012681  36.24532079368951  -97.11438709551649   \n",
       "2  18.317819121693926  5.363872991165174  18.317632423289847   \n",
       "3         -124.548074          24.566013         -124.545748   \n",
       "4          -67.113167             49.075  -67.10924200000001   \n",
       "\n",
       "             Distance                                        Description  \\\n",
       "0             2845342                                            2845342   \n",
       "1  0.7026778946081038                                             1092.0   \n",
       "2    1.56036082534385                                 177.90446874657198   \n",
       "3                 0.0                             1039 GOLDEN BEAR - BOT   \n",
       "4             155.186  x DRESSER RANCH PL. LL SLOSO - DIRECTIONS PER ...   \n",
       "\n",
       "              Number  ...            Pressure          Visibility  \\\n",
       "0            1101431  ...             2786142             2774796   \n",
       "1  8089.408113626728  ...  29.472344381585412   9.099391310208052   \n",
       "2  18360.09399458918  ...  1.0452864968682465  2.7175457451003693   \n",
       "3                0.0  ...                 0.0                 0.0   \n",
       "4          9999997.0  ...                58.9               140.0   \n",
       "\n",
       "  Wind_Direction          Wind_Speed         Precipitation  \\\n",
       "0        2771567             2687398               2295884   \n",
       "1           None  7.3950442026081875  0.007016939880237102   \n",
       "2           None   5.527453950436704   0.09348831171402873   \n",
       "3           CALM                 0.0                   0.0   \n",
       "4           West              1087.0                  24.0   \n",
       "\n",
       "    Weather_Condition Sunrise_Sunset Civil_Twilight Nautical_Twilight  \\\n",
       "0             2774706        2842475        2842475           2842475   \n",
       "1                None           None           None              None   \n",
       "2                None           None           None              None   \n",
       "3        Blowing Dust            Day            Day               Day   \n",
       "4  Wintry Mix / Windy          Night          Night             Night   \n",
       "\n",
       "  Astronomical_Twilight  \n",
       "0               2842475  \n",
       "1                  None  \n",
       "2                  None  \n",
       "3                   Day  \n",
       "4                 Night  \n",
       "\n",
       "[5 rows x 32 columns]"
      ]
     },
     "execution_count": 7,
     "metadata": {},
     "output_type": "execute_result"
    }
   ],
   "source": [
    "# Summary of all numerical variables in the dataset to find the skewness, outliers, mean, median\n",
    "\n",
    "us_traffic.describe().toPandas()"
   ]
  },
  {
   "cell_type": "code",
   "execution_count": 8,
   "metadata": {
    "ExecuteTime": {
     "end_time": "2023-04-11T22:51:58.404445Z",
     "start_time": "2023-04-11T22:51:58.402120Z"
    }
   },
   "outputs": [],
   "source": [
    "# Columns to be dropped initially as a list\n",
    "drop_col = ['ID','End_Lat','End_Lng','Description','Number','Street','Zipcode','Airport_Code','Country','Weather_Timestamp','Wind_Chill','Turning_Loop']"
   ]
  },
  {
   "cell_type": "code",
   "execution_count": 9,
   "metadata": {
    "ExecuteTime": {
     "end_time": "2023-04-11T22:51:58.418097Z",
     "start_time": "2023-04-11T22:51:58.407696Z"
    }
   },
   "outputs": [],
   "source": [
    "# Dropping columns from the original dataset\n",
    "\n",
    "us_traffic = us_traffic.drop(*(drop_col))"
   ]
  },
  {
   "cell_type": "code",
   "execution_count": 10,
   "metadata": {
    "ExecuteTime": {
     "end_time": "2023-04-11T22:52:45.207227Z",
     "start_time": "2023-04-11T22:51:58.419434Z"
    }
   },
   "outputs": [
    {
     "name": "stdout",
     "output_type": "stream",
     "text": [
      "+--------+----------+--------+---------+---------+--------+----+----+------+-----+--------+-----------+--------+--------+----------+--------------+----------+-------------+-----------------+-------+----+--------+--------+--------+-------+-------+----------+-------+----+---------------+--------------+--------------+--------------+-----------------+---------------------+\n",
      "|Severity|Start_Time|End_Time|Start_Lat|Start_Lng|Distance|Side|City|County|State|Timezone|Temperature|Humidity|Pressure|Visibility|Wind_Direction|Wind_Speed|Precipitation|Weather_Condition|Amenity|Bump|Crossing|Give_Way|Junction|No_Exit|Railway|Roundabout|Station|Stop|Traffic_Calming|Traffic_Signal|Sunrise_Sunset|Civil_Twilight|Nautical_Twilight|Astronomical_Twilight|\n",
      "+--------+----------+--------+---------+---------+--------+----+----+------+-----+--------+-----------+--------+--------+----------+--------------+----------+-------------+-----------------+-------+----+--------+--------+--------+-------+-------+----------+-------+----+---------------+--------------+--------------+--------------+-----------------+---------------------+\n",
      "|       0|         0|       0|        0|        0|       0|   0| 137|     0|    0|    3659|      69274|   73092|   59200|     70546|         73775|    157944|       549458|            70636|      0|   0|       0|       0|       0|      0|      0|         0|      0|   0|              0|             0|          2867|          2867|             2867|                 2867|\n",
      "+--------+----------+--------+---------+---------+--------+----+----+------+-----+--------+-----------+--------+--------+----------+--------------+----------+-------------+-----------------+-------+----+--------+--------+--------+-------+-------+----------+-------+----+---------------+--------------+--------------+--------------+-----------------+---------------------+\n",
      "\n"
     ]
    }
   ],
   "source": [
    "# Checking null values in all the columns\n",
    "\n",
    "from pyspark.sql.functions import isnan, isnull, when, count, col\n",
    "\n",
    "us_traffic.select([count(when(isnull(c), c)).alias(c) for c in us_traffic.columns]).show()"
   ]
  },
  {
   "cell_type": "code",
   "execution_count": 11,
   "metadata": {
    "ExecuteTime": {
     "end_time": "2023-04-11T22:52:45.393115Z",
     "start_time": "2023-04-11T22:52:45.209436Z"
    }
   },
   "outputs": [],
   "source": [
    "# Replacing same Wind_Direction named with different string N and North same\n",
    "\n",
    "us_traffic = us_traffic.withColumn('Wind_Direction', when(us_traffic.Wind_Direction == 'E', 'East')\\\n",
    "                   .when(us_traffic.Wind_Direction == 'W', 'West')\\\n",
    "                   .when(us_traffic.Wind_Direction == 'N', 'North')\\\n",
    "                   .when(us_traffic.Wind_Direction == 'S', 'South')\\\n",
    "                   .when(us_traffic.Wind_Direction == 'VAR', 'Variable')\\\n",
    "                   .when(us_traffic.Wind_Direction == 'CALM', 'Calm')\\\n",
    "                   .otherwise(us_traffic.Wind_Direction))"
   ]
  },
  {
   "cell_type": "code",
   "execution_count": 12,
   "metadata": {
    "ExecuteTime": {
     "end_time": "2023-04-11T22:52:45.504519Z",
     "start_time": "2023-04-11T22:52:45.395154Z"
    }
   },
   "outputs": [],
   "source": [
    "# Replacing same Weather_Condition named with different string Light Rain Shower and Light Rain Showers same\n",
    "\n",
    "us_traffic = us_traffic.withColumn('Weather_Condition', when(us_traffic.Weather_Condition == 'Light Rain Shower', 'Light Rain Showers')\\\n",
    "                   .when(us_traffic.Weather_Condition == 'Light Snow Shower', 'Light Snow Showers')\\\n",
    "                   .when(us_traffic.Weather_Condition == 'Rain Shower', 'Rain Showers')\\\n",
    "                   .otherwise(us_traffic.Weather_Condition))"
   ]
  },
  {
   "cell_type": "code",
   "execution_count": 13,
   "metadata": {
    "ExecuteTime": {
     "end_time": "2023-04-11T22:52:45.513171Z",
     "start_time": "2023-04-11T22:52:45.506441Z"
    }
   },
   "outputs": [],
   "source": [
    "# Dropping Null rows from City Column as there are only 30 rows with City = Null\n",
    "\n",
    "us_traffic = us_traffic.where(col(\"city\").isNotNull())"
   ]
  },
  {
   "cell_type": "code",
   "execution_count": 14,
   "metadata": {
    "ExecuteTime": {
     "end_time": "2023-04-11T22:52:45.520460Z",
     "start_time": "2023-04-11T22:52:45.514805Z"
    }
   },
   "outputs": [],
   "source": [
    "# Dropping Null rows from Timezone Column \n",
    "\n",
    "us_traffic = us_traffic.where(col(\"Timezone\").isNotNull())"
   ]
  },
  {
   "cell_type": "code",
   "execution_count": 15,
   "metadata": {
    "ExecuteTime": {
     "end_time": "2023-04-11T22:52:45.620027Z",
     "start_time": "2023-04-11T22:52:45.522017Z"
    }
   },
   "outputs": [],
   "source": [
    "# Clipping Temperature extreme values to suppress outliers\n",
    "\n",
    "lower = -30\n",
    "upper = 115\n",
    "us_traffic = us_traffic.withColumn('Temperature', when(us_traffic.Temperature > upper, upper)\\\n",
    "                  .when(us_traffic.Temperature < lower, lower).otherwise(us_traffic.Temperature).alias('Temperature'))"
   ]
  },
  {
   "cell_type": "code",
   "execution_count": 16,
   "metadata": {
    "ExecuteTime": {
     "end_time": "2023-04-11T22:52:45.700631Z",
     "start_time": "2023-04-11T22:52:45.622019Z"
    }
   },
   "outputs": [],
   "source": [
    "# Distance > 100 rows dropped\n",
    "us_traffic = us_traffic.where(us_traffic.Distance <100)"
   ]
  },
  {
   "cell_type": "code",
   "execution_count": 17,
   "metadata": {
    "ExecuteTime": {
     "end_time": "2023-04-11T22:52:45.727230Z",
     "start_time": "2023-04-11T22:52:45.702440Z"
    }
   },
   "outputs": [],
   "source": [
    "# Clipping Visibility extreme values to suppress outliers \n",
    "\n",
    "upper = 20\n",
    "us_traffic =us_traffic.withColumn('Visibility', when(us_traffic.Visibility > upper, upper)\\\n",
    "                  .otherwise(us_traffic.Visibility).alias('Visibility'))"
   ]
  },
  {
   "cell_type": "code",
   "execution_count": 18,
   "metadata": {
    "ExecuteTime": {
     "end_time": "2023-04-11T22:52:45.828125Z",
     "start_time": "2023-04-11T22:52:45.729611Z"
    }
   },
   "outputs": [],
   "source": [
    "# Clipping Wind_Speed extreme values to suppress outliers \n",
    "upper = 40\n",
    "us_acci = us_traffic.withColumn('Wind_Speed', when(us_traffic.Wind_Speed > upper, upper)\\\n",
    "                  .otherwise(us_traffic.Wind_Speed).alias('Wind_Speed'))"
   ]
  },
  {
   "cell_type": "code",
   "execution_count": 19,
   "metadata": {
    "ExecuteTime": {
     "end_time": "2023-04-11T22:52:45.903024Z",
     "start_time": "2023-04-11T22:52:45.830572Z"
    }
   },
   "outputs": [],
   "source": [
    "# Replacing Null values in Precipitation with 0\n",
    "\n",
    "us_traffic= us_traffic.withColumn('Precipitation', when(us_traffic.Precipitation.isNull(), 0).otherwise(us_traffic.Precipitation))"
   ]
  },
  {
   "cell_type": "code",
   "execution_count": 20,
   "metadata": {
    "ExecuteTime": {
     "end_time": "2023-04-11T22:54:25.828352Z",
     "start_time": "2023-04-11T22:52:45.904689Z"
    }
   },
   "outputs": [],
   "source": [
    "#replacing missing values in categorical attributes with the mode of the corresponding variables\n",
    "\n",
    "for col_name in ['Wind_Direction', 'Weather_Condition']:\n",
    "    common = us_traffic.dropna().groupBy(col_name).agg(fn.count('*')).orderBy('count(1)', ascending = False).first()[col_name]\n",
    "    us_traffic= us_traffic.withColumn(col_name, when(isnull(col_name), common).otherwise(us_traffic[col_name]))"
   ]
  },
  {
   "cell_type": "code",
   "execution_count": 21,
   "metadata": {
    "ExecuteTime": {
     "end_time": "2023-04-11T23:00:12.195708Z",
     "start_time": "2023-04-11T22:54:25.830090Z"
    }
   },
   "outputs": [],
   "source": [
    "#replacing missing values in numerical attributes with the median of the corresponding variables\n",
    "\n",
    "for col_name in ['Temperature', 'Humidity', 'Pressure', 'Visibility', 'Wind_Speed']:\n",
    "    median = us_traffic.dropna().approxQuantile(col_name, [0.5], 0.00)[0]\n",
    "    us_traffic = us_traffic.withColumn(col_name, when(isnull(col_name), median).otherwise(us_traffic[col_name]))"
   ]
  },
  {
   "cell_type": "code",
   "execution_count": 22,
   "metadata": {
    "ExecuteTime": {
     "end_time": "2023-04-11T23:00:12.210648Z",
     "start_time": "2023-04-11T23:00:12.198781Z"
    }
   },
   "outputs": [],
   "source": [
    "\n",
    "# Removing Null values in last 4 columns \n",
    "\n",
    "us_traffic =us_traffic.filter(us_traffic.Sunrise_Sunset.isNotNull())\n",
    "\n",
    "us_traffic = us_traffic.filter(us_traffic.Civil_Twilight.isNotNull())\n",
    "\n",
    "us_traffic = us_traffic.filter(us_traffic.Nautical_Twilight.isNotNull())\n",
    "\n",
    "us_traffic = us_traffic.filter(us_traffic.Astronomical_Twilight.isNotNull())"
   ]
  },
  {
   "cell_type": "code",
   "execution_count": 23,
   "metadata": {
    "ExecuteTime": {
     "end_time": "2023-04-11T23:00:12.309134Z",
     "start_time": "2023-04-11T23:00:12.212519Z"
    }
   },
   "outputs": [],
   "source": [
    "# Adding Month of Year, Day of Week , Week of Year and Hour of the Day Column from Start Time\n",
    "\n",
    "us_traffic = us_traffic.withColumn(\"Start_Time\",to_timestamp(col(\"Start_Time\"))).withColumn(\"month_of_year\", date_format(col(\"Start_Time\"), \"MMMM\")).withColumn(\"day_of_week\", date_format(col(\"Start_Time\"), \"EEEE\")).withColumn(\"hour_day\", date_format(col(\"Start_Time\"), \"H\")).withColumn(\"week_of_year\", date_format(col(\"Start_Time\"), \"w\"))"
   ]
  },
  {
   "cell_type": "code",
   "execution_count": 24,
   "metadata": {
    "ExecuteTime": {
     "end_time": "2023-04-11T23:01:17.216616Z",
     "start_time": "2023-04-11T23:00:12.310708Z"
    }
   },
   "outputs": [
    {
     "name": "stdout",
     "output_type": "stream",
     "text": [
      "+--------+----------+--------+---------+---------+--------+----+----+------+-----+--------+-----------+--------+--------+----------+--------------+----------+-------------+-----------------+-------+----+--------+--------+--------+-------+-------+----------+-------+----+---------------+--------------+--------------+--------------+-----------------+---------------------+-------------+-----------+--------+------------+\n",
      "|Severity|Start_Time|End_Time|Start_Lat|Start_Lng|Distance|Side|City|County|State|Timezone|Temperature|Humidity|Pressure|Visibility|Wind_Direction|Wind_Speed|Precipitation|Weather_Condition|Amenity|Bump|Crossing|Give_Way|Junction|No_Exit|Railway|Roundabout|Station|Stop|Traffic_Calming|Traffic_Signal|Sunrise_Sunset|Civil_Twilight|Nautical_Twilight|Astronomical_Twilight|month_of_year|day_of_week|hour_day|week_of_year|\n",
      "+--------+----------+--------+---------+---------+--------+----+----+------+-----+--------+-----------+--------+--------+----------+--------------+----------+-------------+-----------------+-------+----+--------+--------+--------+-------+-------+----------+-------+----+---------------+--------------+--------------+--------------+-----------------+---------------------+-------------+-----------+--------+------------+\n",
      "|       0|         0|       0|        0|        0|       0|   0|   0|     0|    0|       0|          0|       0|       0|         0|             0|         0|            0|                0|      0|   0|       0|       0|       0|      0|      0|         0|      0|   0|              0|             0|             0|             0|                0|                    0|            0|          0|       0|           0|\n",
      "+--------+----------+--------+---------+---------+--------+----+----+------+-----+--------+-----------+--------+--------+----------+--------------+----------+-------------+-----------------+-------+----+--------+--------+--------+-------+-------+----------+-------+----+---------------+--------------+--------------+--------------+-----------------+---------------------+-------------+-----------+--------+------------+\n",
      "\n"
     ]
    }
   ],
   "source": [
    "# Checking null values in all the columns\n",
    "\n",
    "from pyspark.sql.functions import isnan, isnull, when, count, col\n",
    "\n",
    "us_traffic.select([count(when(isnull(c), c)).alias(c) for c in us_traffic.columns]).show()"
   ]
  },
  {
   "cell_type": "code",
   "execution_count": 25,
   "metadata": {
    "ExecuteTime": {
     "end_time": "2023-04-11T23:01:30.354466Z",
     "start_time": "2023-04-11T23:01:17.218137Z"
    }
   },
   "outputs": [
    {
     "name": "stdout",
     "output_type": "stream",
     "text": [
      "Shape is  (2838820, 39)\n"
     ]
    }
   ],
   "source": [
    "# Shape of the spark dataframe\n",
    "\n",
    "print('Shape is ',(us_traffic.count(),len(us_traffic.columns)))"
   ]
  },
  {
   "cell_type": "code",
   "execution_count": 33,
   "metadata": {
    "ExecuteTime": {
     "end_time": "2023-04-11T23:22:01.378424Z",
     "start_time": "2023-04-11T23:22:01.354170Z"
    },
    "scrolled": true
   },
   "outputs": [
    {
     "name": "stderr",
     "output_type": "stream",
     "text": [
      "ERROR:py4j.java_gateway:An error occurred while trying to connect to the Java server (127.0.0.1:37476)\n",
      "Traceback (most recent call last):\n",
      "  File \"/usr/local/spark/python/lib/py4j-0.10.7-src.zip/py4j/java_gateway.py\", line 929, in _get_connection\n",
      "    connection = self.deque.pop()\n",
      "IndexError: pop from an empty deque\n",
      "\n",
      "During handling of the above exception, another exception occurred:\n",
      "\n",
      "Traceback (most recent call last):\n",
      "  File \"/usr/local/spark/python/lib/py4j-0.10.7-src.zip/py4j/java_gateway.py\", line 1067, in start\n",
      "    self.socket.connect((self.address, self.port))\n",
      "ConnectionRefusedError: [Errno 111] Connection refused\n"
     ]
    },
    {
     "ename": "Py4JNetworkError",
     "evalue": "An error occurred while trying to connect to the Java server (127.0.0.1:37476)",
     "output_type": "error",
     "traceback": [
      "\u001b[0;31m---------------------------------------------------------------------------\u001b[0m",
      "\u001b[0;31mIndexError\u001b[0m                                Traceback (most recent call last)",
      "\u001b[0;32m/usr/local/spark/python/lib/py4j-0.10.7-src.zip/py4j/java_gateway.py\u001b[0m in \u001b[0;36m_get_connection\u001b[0;34m(self)\u001b[0m\n\u001b[1;32m    928\u001b[0m         \u001b[0;32mtry\u001b[0m\u001b[0;34m:\u001b[0m\u001b[0;34m\u001b[0m\u001b[0;34m\u001b[0m\u001b[0m\n\u001b[0;32m--> 929\u001b[0;31m             \u001b[0mconnection\u001b[0m \u001b[0;34m=\u001b[0m \u001b[0mself\u001b[0m\u001b[0;34m.\u001b[0m\u001b[0mdeque\u001b[0m\u001b[0;34m.\u001b[0m\u001b[0mpop\u001b[0m\u001b[0;34m(\u001b[0m\u001b[0;34m)\u001b[0m\u001b[0;34m\u001b[0m\u001b[0;34m\u001b[0m\u001b[0m\n\u001b[0m\u001b[1;32m    930\u001b[0m         \u001b[0;32mexcept\u001b[0m \u001b[0mIndexError\u001b[0m\u001b[0;34m:\u001b[0m\u001b[0;34m\u001b[0m\u001b[0;34m\u001b[0m\u001b[0m\n",
      "\u001b[0;31mIndexError\u001b[0m: pop from an empty deque",
      "\nDuring handling of the above exception, another exception occurred:\n",
      "\u001b[0;31mConnectionRefusedError\u001b[0m                    Traceback (most recent call last)",
      "\u001b[0;32m/usr/local/spark/python/lib/py4j-0.10.7-src.zip/py4j/java_gateway.py\u001b[0m in \u001b[0;36mstart\u001b[0;34m(self)\u001b[0m\n\u001b[1;32m   1066\u001b[0m         \u001b[0;32mtry\u001b[0m\u001b[0;34m:\u001b[0m\u001b[0;34m\u001b[0m\u001b[0;34m\u001b[0m\u001b[0m\n\u001b[0;32m-> 1067\u001b[0;31m             \u001b[0mself\u001b[0m\u001b[0;34m.\u001b[0m\u001b[0msocket\u001b[0m\u001b[0;34m.\u001b[0m\u001b[0mconnect\u001b[0m\u001b[0;34m(\u001b[0m\u001b[0;34m(\u001b[0m\u001b[0mself\u001b[0m\u001b[0;34m.\u001b[0m\u001b[0maddress\u001b[0m\u001b[0;34m,\u001b[0m \u001b[0mself\u001b[0m\u001b[0;34m.\u001b[0m\u001b[0mport\u001b[0m\u001b[0;34m)\u001b[0m\u001b[0;34m)\u001b[0m\u001b[0;34m\u001b[0m\u001b[0;34m\u001b[0m\u001b[0m\n\u001b[0m\u001b[1;32m   1068\u001b[0m             \u001b[0mself\u001b[0m\u001b[0;34m.\u001b[0m\u001b[0mstream\u001b[0m \u001b[0;34m=\u001b[0m \u001b[0mself\u001b[0m\u001b[0;34m.\u001b[0m\u001b[0msocket\u001b[0m\u001b[0;34m.\u001b[0m\u001b[0mmakefile\u001b[0m\u001b[0;34m(\u001b[0m\u001b[0;34m\"rb\"\u001b[0m\u001b[0;34m)\u001b[0m\u001b[0;34m\u001b[0m\u001b[0;34m\u001b[0m\u001b[0m\n",
      "\u001b[0;31mConnectionRefusedError\u001b[0m: [Errno 111] Connection refused",
      "\nDuring handling of the above exception, another exception occurred:\n",
      "\u001b[0;31mPy4JNetworkError\u001b[0m                          Traceback (most recent call last)",
      "\u001b[0;32m<ipython-input-33-c9b0d6a0bac3>\u001b[0m in \u001b[0;36m<module>\u001b[0;34m\u001b[0m\n\u001b[0;32m----> 1\u001b[0;31m \u001b[0mus_traffic\u001b[0m\u001b[0;34m.\u001b[0m\u001b[0mtoPandas\u001b[0m\u001b[0;34m(\u001b[0m\u001b[0;34m)\u001b[0m\u001b[0;34m.\u001b[0m\u001b[0mto_csv\u001b[0m\u001b[0;34m(\u001b[0m\u001b[0;34m\"Us_clean.csv\"\u001b[0m\u001b[0;34m,\u001b[0m\u001b[0mheader\u001b[0m\u001b[0;34m=\u001b[0m\u001b[0;32mTrue\u001b[0m\u001b[0;34m,\u001b[0m\u001b[0mindex\u001b[0m\u001b[0;34m=\u001b[0m\u001b[0;32mFalse\u001b[0m\u001b[0;34m)\u001b[0m\u001b[0;34m\u001b[0m\u001b[0;34m\u001b[0m\u001b[0m\n\u001b[0m",
      "\u001b[0;32m/usr/local/spark/python/pyspark/sql/dataframe.py\u001b[0m in \u001b[0;36mtoPandas\u001b[0;34m(self)\u001b[0m\n\u001b[1;32m   2077\u001b[0m         \u001b[0;32mimport\u001b[0m \u001b[0mpandas\u001b[0m \u001b[0;32mas\u001b[0m \u001b[0mpd\u001b[0m\u001b[0;34m\u001b[0m\u001b[0;34m\u001b[0m\u001b[0m\n\u001b[1;32m   2078\u001b[0m \u001b[0;34m\u001b[0m\u001b[0m\n\u001b[0;32m-> 2079\u001b[0;31m         \u001b[0;32mif\u001b[0m \u001b[0mself\u001b[0m\u001b[0;34m.\u001b[0m\u001b[0msql_ctx\u001b[0m\u001b[0;34m.\u001b[0m\u001b[0m_conf\u001b[0m\u001b[0;34m.\u001b[0m\u001b[0mpandasRespectSessionTimeZone\u001b[0m\u001b[0;34m(\u001b[0m\u001b[0;34m)\u001b[0m\u001b[0;34m:\u001b[0m\u001b[0;34m\u001b[0m\u001b[0;34m\u001b[0m\u001b[0m\n\u001b[0m\u001b[1;32m   2080\u001b[0m             \u001b[0mtimezone\u001b[0m \u001b[0;34m=\u001b[0m \u001b[0mself\u001b[0m\u001b[0;34m.\u001b[0m\u001b[0msql_ctx\u001b[0m\u001b[0;34m.\u001b[0m\u001b[0m_conf\u001b[0m\u001b[0;34m.\u001b[0m\u001b[0msessionLocalTimeZone\u001b[0m\u001b[0;34m(\u001b[0m\u001b[0;34m)\u001b[0m\u001b[0;34m\u001b[0m\u001b[0;34m\u001b[0m\u001b[0m\n\u001b[1;32m   2081\u001b[0m         \u001b[0;32melse\u001b[0m\u001b[0;34m:\u001b[0m\u001b[0;34m\u001b[0m\u001b[0;34m\u001b[0m\u001b[0m\n",
      "\u001b[0;32m/usr/local/spark/python/pyspark/sql/context.py\u001b[0m in \u001b[0;36m_conf\u001b[0;34m(self)\u001b[0m\n\u001b[1;32m     97\u001b[0m     \u001b[0;32mdef\u001b[0m \u001b[0m_conf\u001b[0m\u001b[0;34m(\u001b[0m\u001b[0mself\u001b[0m\u001b[0;34m)\u001b[0m\u001b[0;34m:\u001b[0m\u001b[0;34m\u001b[0m\u001b[0;34m\u001b[0m\u001b[0m\n\u001b[1;32m     98\u001b[0m         \u001b[0;34m\"\"\"Accessor for the JVM SQL-specific configurations\"\"\"\u001b[0m\u001b[0;34m\u001b[0m\u001b[0;34m\u001b[0m\u001b[0m\n\u001b[0;32m---> 99\u001b[0;31m         \u001b[0;32mreturn\u001b[0m \u001b[0mself\u001b[0m\u001b[0;34m.\u001b[0m\u001b[0msparkSession\u001b[0m\u001b[0;34m.\u001b[0m\u001b[0m_jsparkSession\u001b[0m\u001b[0;34m.\u001b[0m\u001b[0msessionState\u001b[0m\u001b[0;34m(\u001b[0m\u001b[0;34m)\u001b[0m\u001b[0;34m.\u001b[0m\u001b[0mconf\u001b[0m\u001b[0;34m(\u001b[0m\u001b[0;34m)\u001b[0m\u001b[0;34m\u001b[0m\u001b[0;34m\u001b[0m\u001b[0m\n\u001b[0m\u001b[1;32m    100\u001b[0m \u001b[0;34m\u001b[0m\u001b[0m\n\u001b[1;32m    101\u001b[0m     \u001b[0;34m@\u001b[0m\u001b[0mclassmethod\u001b[0m\u001b[0;34m\u001b[0m\u001b[0;34m\u001b[0m\u001b[0m\n",
      "\u001b[0;32m/usr/local/spark/python/lib/py4j-0.10.7-src.zip/py4j/java_gateway.py\u001b[0m in \u001b[0;36m__call__\u001b[0;34m(self, *args)\u001b[0m\n\u001b[1;32m   1253\u001b[0m             \u001b[0mproto\u001b[0m\u001b[0;34m.\u001b[0m\u001b[0mEND_COMMAND_PART\u001b[0m\u001b[0;34m\u001b[0m\u001b[0;34m\u001b[0m\u001b[0m\n\u001b[1;32m   1254\u001b[0m \u001b[0;34m\u001b[0m\u001b[0m\n\u001b[0;32m-> 1255\u001b[0;31m         \u001b[0manswer\u001b[0m \u001b[0;34m=\u001b[0m \u001b[0mself\u001b[0m\u001b[0;34m.\u001b[0m\u001b[0mgateway_client\u001b[0m\u001b[0;34m.\u001b[0m\u001b[0msend_command\u001b[0m\u001b[0;34m(\u001b[0m\u001b[0mcommand\u001b[0m\u001b[0;34m)\u001b[0m\u001b[0;34m\u001b[0m\u001b[0;34m\u001b[0m\u001b[0m\n\u001b[0m\u001b[1;32m   1256\u001b[0m         return_value = get_return_value(\n\u001b[1;32m   1257\u001b[0m             answer, self.gateway_client, self.target_id, self.name)\n",
      "\u001b[0;32m/usr/local/spark/python/lib/py4j-0.10.7-src.zip/py4j/java_gateway.py\u001b[0m in \u001b[0;36msend_command\u001b[0;34m(self, command, retry, binary)\u001b[0m\n\u001b[1;32m    981\u001b[0m          \u001b[0;32mif\u001b[0m\u001b[0;31m \u001b[0m\u001b[0;31m`\u001b[0m\u001b[0mbinary\u001b[0m\u001b[0;31m`\u001b[0m \u001b[0;32mis\u001b[0m\u001b[0;31m \u001b[0m\u001b[0;31m`\u001b[0m\u001b[0;32mTrue\u001b[0m\u001b[0;31m`\u001b[0m\u001b[0;34m.\u001b[0m\u001b[0;34m\u001b[0m\u001b[0;34m\u001b[0m\u001b[0m\n\u001b[1;32m    982\u001b[0m         \"\"\"\n\u001b[0;32m--> 983\u001b[0;31m         \u001b[0mconnection\u001b[0m \u001b[0;34m=\u001b[0m \u001b[0mself\u001b[0m\u001b[0;34m.\u001b[0m\u001b[0m_get_connection\u001b[0m\u001b[0;34m(\u001b[0m\u001b[0;34m)\u001b[0m\u001b[0;34m\u001b[0m\u001b[0;34m\u001b[0m\u001b[0m\n\u001b[0m\u001b[1;32m    984\u001b[0m         \u001b[0;32mtry\u001b[0m\u001b[0;34m:\u001b[0m\u001b[0;34m\u001b[0m\u001b[0;34m\u001b[0m\u001b[0m\n\u001b[1;32m    985\u001b[0m             \u001b[0mresponse\u001b[0m \u001b[0;34m=\u001b[0m \u001b[0mconnection\u001b[0m\u001b[0;34m.\u001b[0m\u001b[0msend_command\u001b[0m\u001b[0;34m(\u001b[0m\u001b[0mcommand\u001b[0m\u001b[0;34m)\u001b[0m\u001b[0;34m\u001b[0m\u001b[0;34m\u001b[0m\u001b[0m\n",
      "\u001b[0;32m/usr/local/spark/python/lib/py4j-0.10.7-src.zip/py4j/java_gateway.py\u001b[0m in \u001b[0;36m_get_connection\u001b[0;34m(self)\u001b[0m\n\u001b[1;32m    929\u001b[0m             \u001b[0mconnection\u001b[0m \u001b[0;34m=\u001b[0m \u001b[0mself\u001b[0m\u001b[0;34m.\u001b[0m\u001b[0mdeque\u001b[0m\u001b[0;34m.\u001b[0m\u001b[0mpop\u001b[0m\u001b[0;34m(\u001b[0m\u001b[0;34m)\u001b[0m\u001b[0;34m\u001b[0m\u001b[0;34m\u001b[0m\u001b[0m\n\u001b[1;32m    930\u001b[0m         \u001b[0;32mexcept\u001b[0m \u001b[0mIndexError\u001b[0m\u001b[0;34m:\u001b[0m\u001b[0;34m\u001b[0m\u001b[0;34m\u001b[0m\u001b[0m\n\u001b[0;32m--> 931\u001b[0;31m             \u001b[0mconnection\u001b[0m \u001b[0;34m=\u001b[0m \u001b[0mself\u001b[0m\u001b[0;34m.\u001b[0m\u001b[0m_create_connection\u001b[0m\u001b[0;34m(\u001b[0m\u001b[0;34m)\u001b[0m\u001b[0;34m\u001b[0m\u001b[0;34m\u001b[0m\u001b[0m\n\u001b[0m\u001b[1;32m    932\u001b[0m         \u001b[0;32mreturn\u001b[0m \u001b[0mconnection\u001b[0m\u001b[0;34m\u001b[0m\u001b[0;34m\u001b[0m\u001b[0m\n\u001b[1;32m    933\u001b[0m \u001b[0;34m\u001b[0m\u001b[0m\n",
      "\u001b[0;32m/usr/local/spark/python/lib/py4j-0.10.7-src.zip/py4j/java_gateway.py\u001b[0m in \u001b[0;36m_create_connection\u001b[0;34m(self)\u001b[0m\n\u001b[1;32m    935\u001b[0m         connection = GatewayConnection(\n\u001b[1;32m    936\u001b[0m             self.gateway_parameters, self.gateway_property)\n\u001b[0;32m--> 937\u001b[0;31m         \u001b[0mconnection\u001b[0m\u001b[0;34m.\u001b[0m\u001b[0mstart\u001b[0m\u001b[0;34m(\u001b[0m\u001b[0;34m)\u001b[0m\u001b[0;34m\u001b[0m\u001b[0;34m\u001b[0m\u001b[0m\n\u001b[0m\u001b[1;32m    938\u001b[0m         \u001b[0;32mreturn\u001b[0m \u001b[0mconnection\u001b[0m\u001b[0;34m\u001b[0m\u001b[0;34m\u001b[0m\u001b[0m\n\u001b[1;32m    939\u001b[0m \u001b[0;34m\u001b[0m\u001b[0m\n",
      "\u001b[0;32m/usr/local/spark/python/lib/py4j-0.10.7-src.zip/py4j/java_gateway.py\u001b[0m in \u001b[0;36mstart\u001b[0;34m(self)\u001b[0m\n\u001b[1;32m   1077\u001b[0m                 \u001b[0;34m\"server ({0}:{1})\"\u001b[0m\u001b[0;34m.\u001b[0m\u001b[0mformat\u001b[0m\u001b[0;34m(\u001b[0m\u001b[0mself\u001b[0m\u001b[0;34m.\u001b[0m\u001b[0maddress\u001b[0m\u001b[0;34m,\u001b[0m \u001b[0mself\u001b[0m\u001b[0;34m.\u001b[0m\u001b[0mport\u001b[0m\u001b[0;34m)\u001b[0m\u001b[0;34m\u001b[0m\u001b[0;34m\u001b[0m\u001b[0m\n\u001b[1;32m   1078\u001b[0m             \u001b[0mlogger\u001b[0m\u001b[0;34m.\u001b[0m\u001b[0mexception\u001b[0m\u001b[0;34m(\u001b[0m\u001b[0mmsg\u001b[0m\u001b[0;34m)\u001b[0m\u001b[0;34m\u001b[0m\u001b[0;34m\u001b[0m\u001b[0m\n\u001b[0;32m-> 1079\u001b[0;31m             \u001b[0;32mraise\u001b[0m \u001b[0mPy4JNetworkError\u001b[0m\u001b[0;34m(\u001b[0m\u001b[0mmsg\u001b[0m\u001b[0;34m,\u001b[0m \u001b[0me\u001b[0m\u001b[0;34m)\u001b[0m\u001b[0;34m\u001b[0m\u001b[0;34m\u001b[0m\u001b[0m\n\u001b[0m\u001b[1;32m   1080\u001b[0m \u001b[0;34m\u001b[0m\u001b[0m\n\u001b[1;32m   1081\u001b[0m     \u001b[0;32mdef\u001b[0m \u001b[0m_authenticate_connection\u001b[0m\u001b[0;34m(\u001b[0m\u001b[0mself\u001b[0m\u001b[0;34m)\u001b[0m\u001b[0;34m:\u001b[0m\u001b[0;34m\u001b[0m\u001b[0;34m\u001b[0m\u001b[0m\n",
      "\u001b[0;31mPy4JNetworkError\u001b[0m: An error occurred while trying to connect to the Java server (127.0.0.1:37476)"
     ]
    }
   ],
   "source": [
    "us_traffic.toPandas().to_csv(\"Us_clean.csv\",header=True,index=False)"
   ]
  },
  {
   "cell_type": "code",
   "execution_count": null,
   "metadata": {},
   "outputs": [],
   "source": []
  }
 ],
 "metadata": {
  "kernelspec": {
   "display_name": "Python 3",
   "language": "python",
   "name": "python3"
  },
  "language_info": {
   "codemirror_mode": {
    "name": "ipython",
    "version": 3
   },
   "file_extension": ".py",
   "mimetype": "text/x-python",
   "name": "python",
   "nbconvert_exporter": "python",
   "pygments_lexer": "ipython3",
   "version": "3.6.7"
  },
  "latex_envs": {
   "LaTeX_envs_menu_present": true,
   "autoclose": false,
   "autocomplete": true,
   "bibliofile": "biblio.bib",
   "cite_by": "apalike",
   "current_citInitial": 1,
   "eqLabelWithNumbers": true,
   "eqNumInitial": 1,
   "hotkeys": {
    "equation": "Ctrl-E",
    "itemize": "Ctrl-I"
   },
   "labels_anchors": false,
   "latex_user_defs": false,
   "report_style_numbering": false,
   "user_envs_cfg": false
  },
  "name": "Data_Cleaning_Project_IST718 (5) (1)",
  "notebookId": 1278832175434352,
  "toc": {
   "base_numbering": 1,
   "nav_menu": {},
   "number_sections": true,
   "sideBar": true,
   "skip_h1_title": false,
   "title_cell": "Table of Contents",
   "title_sidebar": "Contents",
   "toc_cell": false,
   "toc_position": {},
   "toc_section_display": true,
   "toc_window_display": false
  }
 },
 "nbformat": 4,
 "nbformat_minor": 1
}
